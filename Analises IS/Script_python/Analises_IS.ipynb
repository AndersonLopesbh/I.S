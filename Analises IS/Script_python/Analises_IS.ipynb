{
  "nbformat": 4,
  "nbformat_minor": 0,
  "metadata": {
    "colab": {
      "provenance": [],
      "authorship_tag": "ABX9TyNjAWQ+i5qwqjYpExBeVHn+",
      "include_colab_link": true
    },
    "kernelspec": {
      "name": "python3",
      "display_name": "Python 3"
    },
    "language_info": {
      "name": "python"
    }
  },
  "cells": [
    {
      "cell_type": "markdown",
      "metadata": {
        "id": "view-in-github",
        "colab_type": "text"
      },
      "source": [
        "<a href=\"https://colab.research.google.com/github/AndersonLopesbh/I.S/blob/main/Analises%20IS/Script_python/Analises_IS.ipynb\" target=\"_parent\"><img src=\"https://colab.research.google.com/assets/colab-badge.svg\" alt=\"Open In Colab\"/></a>"
      ]
    },
    {
      "cell_type": "markdown",
      "source": [
        "# 1 - Proposta de Trabalho"
      ],
      "metadata": {
        "id": "GAXCXBjb5K-u"
      }
    },
    {
      "cell_type": "markdown",
      "source": [
        "Avaliação de Competências Técnicas de Analíticas para Desenvolvedor de Banco de Dados em Python (DBM)\n",
        "\n",
        "**Objetivo:** Esta avaliação visa analisar suas habilidades técnicas em Python, capacidades analíticas e estatísticas, e sua resposta a situações adversas e desconhecidas, usando o dataset do Censo Escolar de 2022, com foco específico em análise de perfil para prospecção em escolas particulares.\n",
        "\n",
        "**Dataset:**\n",
        " O dataset pode ser acessado através do link: Censo Escolar 2022 - Dados Abertos.\n",
        "\n",
        "**Tarefas:**\n",
        "Extração e Tratamento de Dados: Extraia os dados relevantes, com ênfase nas escolas particulares. Realize a limpeza e organização dos dados, excluindo informações não relacionadas ao objetivo do estudo (como campos de saneamento básico), e tratando inconsistências.\n",
        "\n",
        "**Análise Exploratória e Foco do Estudo:**\n",
        "Conduza uma análise exploratória focada em identificar informações úteis para a prospecção em escolas particulares. Identifique e justifique quais campos são relevantes para o objetivo do estudo.\n",
        "\n",
        "**Análise Estatística:**\n",
        "Aplique técnicas de estatística descritiva e inferencial nos dados relevantes.\n",
        "\n",
        "**Visualização de Dados:**\n",
        "Crie visualizações que destaquem informações pertinentes para a prospecção em escolas particulares.\n",
        "\n",
        "**Interpretação e Conclusões:** Apresente insights e conclusões baseadas na sua análise, focando em aspectos relevantes para a prospecção.\n",
        "\n",
        "**Documentação e Código:** Seu código deve ser claro, bem documentado e eficiente.\n",
        "\n",
        "**Resposta a Adversidades:** Esteja preparado para discutir desafios enfrentados durante a análise e como você os superou.\n",
        "\n",
        "**Entrega:**\n",
        "▪ Uma apresentação (slides) resumindo sua análise e conclusões;\n",
        "▪ O código fonte desenvolvido, preferencialmente em um repositório Git;\n",
        "▪ Um relatório detalhando sua abordagem e métodos utilizados.\n",
        "Avaliação: Você será avaliado pela capacidade analítica, técnica em Python e estatística, pelo CENSO crítico na seleção de dados relevantes e como responde a adversidades e desafios não previstos.\n",
        "\n",
        "Prazo de Entrega: 10 dias corridos."
      ],
      "metadata": {
        "id": "8gsrzNqw5icA"
      }
    },
    {
      "cell_type": "markdown",
      "source": [
        "# 2 - Estratégia de Dados"
      ],
      "metadata": {
        "id": "KPKqxIgY6xDO"
      }
    },
    {
      "cell_type": "markdown",
      "source": [
        "1.   Uma vez que a base em CSV de 2022 tem 185mb e o GitHub suporta somente arquivos até 25MB, utilizaremos uma pasta como repositório dos arquivos em:\n",
        "https://drive.google.com/drive/folders/1UrDDx0DKRgX4SR5nrssTdVLnjAOwcVFT?usp=drive_link\n",
        "\n",
        "2.   Nesta pasta ficarão disponíveis as bases de 2016 a 2022 com foco no ultimo arquivo de 2022.\n",
        "\n",
        "3.   Caso haja possibilidade, observando o desempenho e memória, iremos concatenar os demais anos do CENSO."
      ],
      "metadata": {
        "id": "nXu6BkjQ9JBw"
      }
    },
    {
      "cell_type": "markdown",
      "source": [
        "# 3 - Bibliotecas a utilizadas"
      ],
      "metadata": {
        "id": "Gd5YY6WW7-BS"
      }
    },
    {
      "cell_type": "code",
      "source": [
        "# Abaixo seram importadas as bibliotecas necessárias para manipulação dos dados e demais analises\n",
        "\n",
        "#Pandas leitura e tratamentod dos Data Frames\n",
        "import pandas as pd\n",
        "\n",
        "#Bibliotecas de graficos para analises visuais\n",
        "import plotly.express as px\n",
        "import matplotlib.pyplot as plt\n",
        "import seaborn as sns"
      ],
      "metadata": {
        "id": "r912PU3yA96A"
      },
      "execution_count": 28,
      "outputs": []
    },
    {
      "cell_type": "markdown",
      "source": [
        "# 4 - Extração dos dados"
      ],
      "metadata": {
        "id": "RMxypRFX8H8K"
      }
    },
    {
      "cell_type": "code",
      "source": [
        "# Vamos começar abaixo a captura dos dados em CSV\n",
        "# o comando abaixo vai criar a conexão com o link da pasta dos arquivos CSV no google drive\n",
        "\n",
        "from google.colab import drive\n",
        "link_pastas='https://drive.google.com/drive/folders/1UrDDx0DKRgX4SR5nrssTdVLnjAOwcVFT?usp=drive_link'\n",
        "\n",
        "#Criando uma pasta Drive_analise_IS e montando a mesma no Google colab do usuário que estiver utilizando o script\n",
        "\n",
        "'''SERÁ NECESSÁRIO LOGAR NO GOOGLE DRIVE COM AS DEVIDAS PERMISSÕES!!!!!!!'''\n",
        "\n",
        "pasta =link_pastas.split('/')[-1]\n",
        "drive.mount('/content/Drive_analise_IS', force_remount=True)\n",
        "folder_path = f'/content/drive/My Drive/{pasta}'"
      ],
      "metadata": {
        "colab": {
          "base_uri": "https://localhost:8080/"
        },
        "id": "BHgdzPUZB8Iw",
        "outputId": "125f08c2-92ad-4b7f-bb4c-31e88bbd8ec0"
      },
      "execution_count": 29,
      "outputs": [
        {
          "output_type": "stream",
          "name": "stdout",
          "text": [
            "Mounted at /content/Drive_analise_IS\n"
          ]
        }
      ]
    },
    {
      "cell_type": "code",
      "source": [
        "# criando data set/frame com os dados / OBS: o foco da analise esta no arquivo 2022, devido ao limite de memoria do google colabs, manterei os arquivos comentados\n",
        "\n",
        "#csv_2016 = '/content/Drive_analise_IS/MyDrive/ANALISE_IS/microdados_2016.csv'\n",
        "#csv_2017 = '/content/Drive_analise_IS/MyDrive/ANALISE_IS/microdados_2017.csv'\n",
        "#csv_2018 = '/content/Drive_analise_IS/MyDrive/ANALISE_IS/microdados_2018.csv'\n",
        "#csv_2019 = '/content/Drive_analise_IS/MyDrive/ANALISE_IS/microdados_2019.csv'\n",
        "#csv_2020 = '/content/Drive_analise_IS/MyDrive/ANALISE_IS/microdados_2020.csv'\n",
        "#csv_2021 = '/content/Drive_analise_IS/MyDrive/ANALISE_IS/microdados_2021.csv'\n",
        "csv_2022 = '/content/Drive_analise_IS/MyDrive/ANALISE_IS/microdados_2022.csv'"
      ],
      "metadata": {
        "id": "k0Lx6CfrNMih"
      },
      "execution_count": 30,
      "outputs": []
    },
    {
      "cell_type": "code",
      "source": [
        "# Carregando os dados CVS para Data Frames, já trabalhando a leitura destes dados que se encontram separados por\n",
        "#';' que não se encontram no formato utf8 e lendo-os como Latin-1.\n",
        "\n",
        "#df_2016 = pd.read_csv(csv_2016,header=0,sep=';',encoding='Latin-1')\n",
        "#df_2017 = pd.read_csv(csv_2017,header=0,sep=';',encoding='Latin-1')\n",
        "#df_2018 = pd.read_csv(csv_2018,header=0,sep=';',encoding='Latin-1')\n",
        "#df_2019 = pd.read_csv(csv_2019,header=0,sep=';',encoding='Latin-1')\n",
        "#df_2020 = pd.read_csv(csv_2020,header=0,sep=';',encoding='Latin-1')\n",
        "#df_2021 = pd.read_csv(csv_2021,header=0,sep=';',encoding='Latin-1')\n",
        "df_2022 = pd.read_csv(csv_2022,header=0,sep=';',encoding='Latin-1')"
      ],
      "metadata": {
        "id": "szVy7RgFNZ4o",
        "outputId": "3caf0a9e-16c7-4228-c13b-0dcef36e6678",
        "colab": {
          "base_uri": "https://localhost:8080/"
        }
      },
      "execution_count": 31,
      "outputs": [
        {
          "output_type": "stream",
          "name": "stderr",
          "text": [
            "<ipython-input-31-8c5a900de62b>:10: DtypeWarning: Columns (27) have mixed types. Specify dtype option on import or set low_memory=False.\n",
            "  df_2022 = pd.read_csv(csv_2022,header=0,sep=';',encoding='Latin-1')\n"
          ]
        }
      ]
    },
    {
      "cell_type": "markdown",
      "source": [
        "# 5 - Análise Exploratória e transformação dos dados"
      ],
      "metadata": {
        "id": "tFjIHHb88NXz"
      }
    },
    {
      "cell_type": "markdown",
      "source": [
        "Para uma análise exploratória simples, utilizarei os comandos básicos da biblioteca do pandas, utilizando o Data Frame de 2022 afim de verificar a massa de colunas e registros.(Data frames de 2016 a 2021 ficarão fora da analise a priori)"
      ],
      "metadata": {
        "id": "ty-_XpZ_mbGt"
      }
    },
    {
      "cell_type": "code",
      "source": [
        "#Realizando una analise dos data frames de forma macro em numero de colunas e linhas\n",
        "\n",
        "#print('Data Frame 2016',df_2016.shape[1],'colunas e ',df_2016.shape[0],' linhas')\n",
        "#print('Data Frame 2017',df_2017.shape[1],'colunas e ',df_2017.shape[0],' linhas')\n",
        "#print('Data Frame 2018',df_2018.shape[1],'colunas e ',df_2018.shape[0],' linhas')\n",
        "#print('Data Frame 2019',df_2019.shape[1],'colunas e ',df_2019.shape[0],' linhas')\n",
        "#print('Data Frame 2020',df_2020.shape[1],'colunas e ',df_2020.shape[0],' linhas')\n",
        "#print('Data Frame 2021',df_2021.shape[1],'colunas e ',df_2021.shape[0],' linhas')\n",
        "print('Data Frame 2022',df_2022.shape[1],'colunas e ',df_2022.shape[0],' linhas')"
      ],
      "metadata": {
        "colab": {
          "base_uri": "https://localhost:8080/"
        },
        "id": "csdPX3DrVotj",
        "outputId": "e611bd09-e161-4544-eb54-71a952b55f21"
      },
      "execution_count": 32,
      "outputs": [
        {
          "output_type": "stream",
          "name": "stdout",
          "text": [
            "Data Frame 2022 385 colunas e  224649  linhas\n"
          ]
        }
      ]
    },
    {
      "cell_type": "markdown",
      "source": [
        "Como percebemos no resultado anterior , estamos trabalhando em 2022 com 15 colunas a mais de informações quanto aos anos 2016 a 2021, sendo necessário analisarmos no dicionário de dados, quais são estas colunas e e real necessidade de inclusão das mesmas na análise.\n",
        "\n",
        "Alem de visivelmente, termos uma redução  no numero de registros a partir do CENSO de 2019, o que pode influenciar em estudos históricos."
      ],
      "metadata": {
        "id": "h6lluiuBm32q"
      }
    },
    {
      "cell_type": "code",
      "source": [
        "'''EXECUTAR ESTA PARTE SOMENTE SE UTILIZAR TODOS OS DATA FRAMES, O MESMO FOI EXECUTADO EM ANALISE INICIAL , RETIRADO DEVIDO A FALTA DE MEMORIA '''\n",
        "#Abaixo comparamos os data frames de 2021 e 2022 para sabermos quais colunas são diferentes de um ano para outro\n",
        "#com esta comparação iremos decidir junto ao dicionário de Dados se devemos remove-las do data frame de 2022\n",
        "#mediante a importancia das mesmas\n",
        "\n",
        "colunas_diferentes = sorted(list(set(df_2022.columns).difference(df_2021.columns)))\n",
        "\n",
        "print(\"Colunas diferentes entre os DataFrames:\\n\")\n",
        "for coluna in colunas_diferentes:\n",
        "    print(coluna)"
      ],
      "metadata": {
        "id": "g4iPviX2xe7B"
      },
      "execution_count": null,
      "outputs": []
    },
    {
      "cell_type": "markdown",
      "source": [
        "Quando consultamos o dicionário de dados de 2022, podemos verificar que os campos foram acresendados apenas neste CENSO, dados vinculados a assuntos de:\n",
        "\n",
        "- Forma de contratação\n",
        "- Tipos de atendimentos ofertados\n",
        "- Dependências físicas\n",
        "\n",
        "Sendo assim, estes campos serão descastados, para que haja paridade com os demais CENSOs passados, uma vez também que os mesmos não agregam valor ao foco deste estudo."
      ],
      "metadata": {
        "id": "NdDRCH7h1xA2"
      }
    },
    {
      "cell_type": "markdown",
      "source": [
        "![image.png](data:image/png;base64,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)"
      ],
      "metadata": {
        "id": "5CJX1mzGzoBJ"
      }
    },
    {
      "cell_type": "code",
      "source": [
        "# Com o auxílio da função append do Pandas vamos concatenar nossos data frames\n",
        "\n",
        "df_censo = pd.concat([df_2022], ignore_index=True)"
      ],
      "metadata": {
        "id": "LwHZUk6V4Vbi"
      },
      "execution_count": 33,
      "outputs": []
    },
    {
      "cell_type": "markdown",
      "source": [
        "Uma vez anteriomente analisado que o data frame de 2022, possui 15 colunas a mais dos demais CENSOs passados, vamos ignora-los e unir todos os data frames de 2016 a 2022 em um único data frame, possibilitando um estudo amplo com uma série histórica maior. '''ESTA PARTE SÓ DEVE SER CONSIDERADA SE ANALISARMOS SE UTILIZARMOS TODOS OS DATA FRAMES, A PRIORE UTILIZAREMOS O DE 2022'''"
      ],
      "metadata": {
        "id": "8xN1moKy32ry"
      }
    },
    {
      "cell_type": "markdown",
      "source": [
        "## 5.1 - Reestruturação da Análise Exploratória"
      ],
      "metadata": {
        "id": "nXKY-kOG3pO2"
      }
    },
    {
      "cell_type": "markdown",
      "source": [
        "## 5.2 - Exploração inicial do Data Frame"
      ],
      "metadata": {
        "id": "WFvvsDZ0lNY-"
      }
    },
    {
      "cell_type": "code",
      "source": [
        "'''# Liberando espaço do Gooble Colabs apagando a referencia aos antigos csv's\n",
        "del csv_2019,csv_2020,csv_2021,csv_2022\n",
        "\n",
        "# Liberando espaço do Gooble Colabs apagando os antigos data frames\n",
        "del df_2019,df_2020,df_2021,df_2022\n",
        "\n"
      ],
      "metadata": {
        "id": "QupJKZtY7WM_"
      },
      "execution_count": null,
      "outputs": []
    },
    {
      "cell_type": "markdown",
      "source": [
        "Uma vez unidos os data frames de 2016 a 2022, gerando uma base histórica única (df_censo), vamos conferir a quantidade de registroe e colunas."
      ],
      "metadata": {
        "id": "3bGD-bySoLyd"
      }
    },
    {
      "cell_type": "code",
      "source": [
        "#Leitura das primeiras linhas conferindo o inicio do arquivo\n",
        "print(df_censo.head())\n"
      ],
      "metadata": {
        "id": "VOFZwImH_b25",
        "outputId": "109adba3-e067-4d2b-8036-f93b3fbdcaf7",
        "colab": {
          "base_uri": "https://localhost:8080/"
        }
      },
      "execution_count": 34,
      "outputs": [
        {
          "output_type": "stream",
          "name": "stdout",
          "text": [
            "   NU_ANO_CENSO NO_REGIAO  CO_REGIAO     NO_UF SG_UF  CO_UF  \\\n",
            "0          2022     Norte          1  Rondônia    RO     11   \n",
            "1          2022     Norte          1  Rondônia    RO     11   \n",
            "2          2022     Norte          1  Rondônia    RO     11   \n",
            "3          2022     Norte          1  Rondônia    RO     11   \n",
            "4          2022     Norte          1  Rondônia    RO     11   \n",
            "\n",
            "            NO_MUNICIPIO  CO_MUNICIPIO     NO_MESORREGIAO  CO_MESORREGIAO  \\\n",
            "0  Alta Floresta D'Oeste       1100015  Leste Rondoniense               2   \n",
            "1  Alta Floresta D'Oeste       1100015  Leste Rondoniense               2   \n",
            "2  Alta Floresta D'Oeste       1100015  Leste Rondoniense               2   \n",
            "3  Alta Floresta D'Oeste       1100015  Leste Rondoniense               2   \n",
            "4  Alta Floresta D'Oeste       1100015  Leste Rondoniense               2   \n",
            "\n",
            "   ... QT_TUR_FUND_AF  QT_TUR_MED  QT_TUR_PROF QT_TUR_PROF_TEC  QT_TUR_EJA  \\\n",
            "0  ...            0.0         0.0          0.0             0.0         0.0   \n",
            "1  ...            0.0         0.0          0.0             0.0        10.0   \n",
            "2  ...            1.0         0.0          0.0             0.0         0.0   \n",
            "3  ...            6.0         0.0          0.0             0.0         0.0   \n",
            "4  ...            5.0         0.0          0.0             0.0         0.0   \n",
            "\n",
            "   QT_TUR_EJA_FUND  QT_TUR_EJA_MED  QT_TUR_ESP  QT_TUR_ESP_CC QT_TUR_ESP_CE  \n",
            "0              0.0             0.0         0.0            0.0           0.0  \n",
            "1              6.0             4.0         3.0            3.0           0.0  \n",
            "2              0.0             0.0         0.0            0.0           0.0  \n",
            "3              0.0             0.0         1.0            1.0           0.0  \n",
            "4              0.0             0.0         3.0            3.0           0.0  \n",
            "\n",
            "[5 rows x 385 columns]\n"
          ]
        }
      ]
    },
    {
      "cell_type": "code",
      "source": [
        "#Leitura das ultimas linhas conferindo o fim do arquivo\n",
        "df_censo.tail()"
      ],
      "metadata": {
        "id": "bxoHtYHHFp1P",
        "outputId": "7f068d94-1fc6-4462-a0da-47b48d1f4c1d",
        "colab": {
          "base_uri": "https://localhost:8080/",
          "height": 342
        }
      },
      "execution_count": 35,
      "outputs": [
        {
          "output_type": "execute_result",
          "data": {
            "text/plain": [
              "        NU_ANO_CENSO     NO_REGIAO  CO_REGIAO             NO_UF SG_UF  CO_UF  \\\n",
              "224644          2022  Centro-Oeste          5  Distrito Federal    DF     53   \n",
              "224645          2022  Centro-Oeste          5  Distrito Federal    DF     53   \n",
              "224646          2022  Centro-Oeste          5  Distrito Federal    DF     53   \n",
              "224647          2022  Centro-Oeste          5  Distrito Federal    DF     53   \n",
              "224648          2022  Centro-Oeste          5  Distrito Federal    DF     53   \n",
              "\n",
              "       NO_MUNICIPIO  CO_MUNICIPIO    NO_MESORREGIAO  CO_MESORREGIAO  ...  \\\n",
              "224644     Brasília       5300108  Distrito Federal               1  ...   \n",
              "224645     Brasília       5300108  Distrito Federal               1  ...   \n",
              "224646     Brasília       5300108  Distrito Federal               1  ...   \n",
              "224647     Brasília       5300108  Distrito Federal               1  ...   \n",
              "224648     Brasília       5300108  Distrito Federal               1  ...   \n",
              "\n",
              "       QT_TUR_FUND_AF  QT_TUR_MED  QT_TUR_PROF QT_TUR_PROF_TEC  QT_TUR_EJA  \\\n",
              "224644            1.0         7.0          0.0             0.0         0.0   \n",
              "224645            NaN         NaN          NaN             NaN         NaN   \n",
              "224646            NaN         NaN          NaN             NaN         NaN   \n",
              "224647            NaN         NaN          NaN             NaN         NaN   \n",
              "224648            NaN         NaN          NaN             NaN         NaN   \n",
              "\n",
              "        QT_TUR_EJA_FUND  QT_TUR_EJA_MED  QT_TUR_ESP  QT_TUR_ESP_CC  \\\n",
              "224644              0.0             0.0         2.0            2.0   \n",
              "224645              NaN             NaN         NaN            NaN   \n",
              "224646              NaN             NaN         NaN            NaN   \n",
              "224647              NaN             NaN         NaN            NaN   \n",
              "224648              NaN             NaN         NaN            NaN   \n",
              "\n",
              "       QT_TUR_ESP_CE  \n",
              "224644           0.0  \n",
              "224645           NaN  \n",
              "224646           NaN  \n",
              "224647           NaN  \n",
              "224648           NaN  \n",
              "\n",
              "[5 rows x 385 columns]"
            ],
            "text/html": [
              "\n",
              "  <div id=\"df-3e73f5d5-513a-473c-9269-a3285e9179a0\" class=\"colab-df-container\">\n",
              "    <div>\n",
              "<style scoped>\n",
              "    .dataframe tbody tr th:only-of-type {\n",
              "        vertical-align: middle;\n",
              "    }\n",
              "\n",
              "    .dataframe tbody tr th {\n",
              "        vertical-align: top;\n",
              "    }\n",
              "\n",
              "    .dataframe thead th {\n",
              "        text-align: right;\n",
              "    }\n",
              "</style>\n",
              "<table border=\"1\" class=\"dataframe\">\n",
              "  <thead>\n",
              "    <tr style=\"text-align: right;\">\n",
              "      <th></th>\n",
              "      <th>NU_ANO_CENSO</th>\n",
              "      <th>NO_REGIAO</th>\n",
              "      <th>CO_REGIAO</th>\n",
              "      <th>NO_UF</th>\n",
              "      <th>SG_UF</th>\n",
              "      <th>CO_UF</th>\n",
              "      <th>NO_MUNICIPIO</th>\n",
              "      <th>CO_MUNICIPIO</th>\n",
              "      <th>NO_MESORREGIAO</th>\n",
              "      <th>CO_MESORREGIAO</th>\n",
              "      <th>...</th>\n",
              "      <th>QT_TUR_FUND_AF</th>\n",
              "      <th>QT_TUR_MED</th>\n",
              "      <th>QT_TUR_PROF</th>\n",
              "      <th>QT_TUR_PROF_TEC</th>\n",
              "      <th>QT_TUR_EJA</th>\n",
              "      <th>QT_TUR_EJA_FUND</th>\n",
              "      <th>QT_TUR_EJA_MED</th>\n",
              "      <th>QT_TUR_ESP</th>\n",
              "      <th>QT_TUR_ESP_CC</th>\n",
              "      <th>QT_TUR_ESP_CE</th>\n",
              "    </tr>\n",
              "  </thead>\n",
              "  <tbody>\n",
              "    <tr>\n",
              "      <th>224644</th>\n",
              "      <td>2022</td>\n",
              "      <td>Centro-Oeste</td>\n",
              "      <td>5</td>\n",
              "      <td>Distrito Federal</td>\n",
              "      <td>DF</td>\n",
              "      <td>53</td>\n",
              "      <td>Brasília</td>\n",
              "      <td>5300108</td>\n",
              "      <td>Distrito Federal</td>\n",
              "      <td>1</td>\n",
              "      <td>...</td>\n",
              "      <td>1.0</td>\n",
              "      <td>7.0</td>\n",
              "      <td>0.0</td>\n",
              "      <td>0.0</td>\n",
              "      <td>0.0</td>\n",
              "      <td>0.0</td>\n",
              "      <td>0.0</td>\n",
              "      <td>2.0</td>\n",
              "      <td>2.0</td>\n",
              "      <td>0.0</td>\n",
              "    </tr>\n",
              "    <tr>\n",
              "      <th>224645</th>\n",
              "      <td>2022</td>\n",
              "      <td>Centro-Oeste</td>\n",
              "      <td>5</td>\n",
              "      <td>Distrito Federal</td>\n",
              "      <td>DF</td>\n",
              "      <td>53</td>\n",
              "      <td>Brasília</td>\n",
              "      <td>5300108</td>\n",
              "      <td>Distrito Federal</td>\n",
              "      <td>1</td>\n",
              "      <td>...</td>\n",
              "      <td>NaN</td>\n",
              "      <td>NaN</td>\n",
              "      <td>NaN</td>\n",
              "      <td>NaN</td>\n",
              "      <td>NaN</td>\n",
              "      <td>NaN</td>\n",
              "      <td>NaN</td>\n",
              "      <td>NaN</td>\n",
              "      <td>NaN</td>\n",
              "      <td>NaN</td>\n",
              "    </tr>\n",
              "    <tr>\n",
              "      <th>224646</th>\n",
              "      <td>2022</td>\n",
              "      <td>Centro-Oeste</td>\n",
              "      <td>5</td>\n",
              "      <td>Distrito Federal</td>\n",
              "      <td>DF</td>\n",
              "      <td>53</td>\n",
              "      <td>Brasília</td>\n",
              "      <td>5300108</td>\n",
              "      <td>Distrito Federal</td>\n",
              "      <td>1</td>\n",
              "      <td>...</td>\n",
              "      <td>NaN</td>\n",
              "      <td>NaN</td>\n",
              "      <td>NaN</td>\n",
              "      <td>NaN</td>\n",
              "      <td>NaN</td>\n",
              "      <td>NaN</td>\n",
              "      <td>NaN</td>\n",
              "      <td>NaN</td>\n",
              "      <td>NaN</td>\n",
              "      <td>NaN</td>\n",
              "    </tr>\n",
              "    <tr>\n",
              "      <th>224647</th>\n",
              "      <td>2022</td>\n",
              "      <td>Centro-Oeste</td>\n",
              "      <td>5</td>\n",
              "      <td>Distrito Federal</td>\n",
              "      <td>DF</td>\n",
              "      <td>53</td>\n",
              "      <td>Brasília</td>\n",
              "      <td>5300108</td>\n",
              "      <td>Distrito Federal</td>\n",
              "      <td>1</td>\n",
              "      <td>...</td>\n",
              "      <td>NaN</td>\n",
              "      <td>NaN</td>\n",
              "      <td>NaN</td>\n",
              "      <td>NaN</td>\n",
              "      <td>NaN</td>\n",
              "      <td>NaN</td>\n",
              "      <td>NaN</td>\n",
              "      <td>NaN</td>\n",
              "      <td>NaN</td>\n",
              "      <td>NaN</td>\n",
              "    </tr>\n",
              "    <tr>\n",
              "      <th>224648</th>\n",
              "      <td>2022</td>\n",
              "      <td>Centro-Oeste</td>\n",
              "      <td>5</td>\n",
              "      <td>Distrito Federal</td>\n",
              "      <td>DF</td>\n",
              "      <td>53</td>\n",
              "      <td>Brasília</td>\n",
              "      <td>5300108</td>\n",
              "      <td>Distrito Federal</td>\n",
              "      <td>1</td>\n",
              "      <td>...</td>\n",
              "      <td>NaN</td>\n",
              "      <td>NaN</td>\n",
              "      <td>NaN</td>\n",
              "      <td>NaN</td>\n",
              "      <td>NaN</td>\n",
              "      <td>NaN</td>\n",
              "      <td>NaN</td>\n",
              "      <td>NaN</td>\n",
              "      <td>NaN</td>\n",
              "      <td>NaN</td>\n",
              "    </tr>\n",
              "  </tbody>\n",
              "</table>\n",
              "<p>5 rows × 385 columns</p>\n",
              "</div>\n",
              "    <div class=\"colab-df-buttons\">\n",
              "\n",
              "  <div class=\"colab-df-container\">\n",
              "    <button class=\"colab-df-convert\" onclick=\"convertToInteractive('df-3e73f5d5-513a-473c-9269-a3285e9179a0')\"\n",
              "            title=\"Convert this dataframe to an interactive table.\"\n",
              "            style=\"display:none;\">\n",
              "\n",
              "  <svg xmlns=\"http://www.w3.org/2000/svg\" height=\"24px\" viewBox=\"0 -960 960 960\">\n",
              "    <path d=\"M120-120v-720h720v720H120Zm60-500h600v-160H180v160Zm220 220h160v-160H400v160Zm0 220h160v-160H400v160ZM180-400h160v-160H180v160Zm440 0h160v-160H620v160ZM180-180h160v-160H180v160Zm440 0h160v-160H620v160Z\"/>\n",
              "  </svg>\n",
              "    </button>\n",
              "\n",
              "  <style>\n",
              "    .colab-df-container {\n",
              "      display:flex;\n",
              "      gap: 12px;\n",
              "    }\n",
              "\n",
              "    .colab-df-convert {\n",
              "      background-color: #E8F0FE;\n",
              "      border: none;\n",
              "      border-radius: 50%;\n",
              "      cursor: pointer;\n",
              "      display: none;\n",
              "      fill: #1967D2;\n",
              "      height: 32px;\n",
              "      padding: 0 0 0 0;\n",
              "      width: 32px;\n",
              "    }\n",
              "\n",
              "    .colab-df-convert:hover {\n",
              "      background-color: #E2EBFA;\n",
              "      box-shadow: 0px 1px 2px rgba(60, 64, 67, 0.3), 0px 1px 3px 1px rgba(60, 64, 67, 0.15);\n",
              "      fill: #174EA6;\n",
              "    }\n",
              "\n",
              "    .colab-df-buttons div {\n",
              "      margin-bottom: 4px;\n",
              "    }\n",
              "\n",
              "    [theme=dark] .colab-df-convert {\n",
              "      background-color: #3B4455;\n",
              "      fill: #D2E3FC;\n",
              "    }\n",
              "\n",
              "    [theme=dark] .colab-df-convert:hover {\n",
              "      background-color: #434B5C;\n",
              "      box-shadow: 0px 1px 3px 1px rgba(0, 0, 0, 0.15);\n",
              "      filter: drop-shadow(0px 1px 2px rgba(0, 0, 0, 0.3));\n",
              "      fill: #FFFFFF;\n",
              "    }\n",
              "  </style>\n",
              "\n",
              "    <script>\n",
              "      const buttonEl =\n",
              "        document.querySelector('#df-3e73f5d5-513a-473c-9269-a3285e9179a0 button.colab-df-convert');\n",
              "      buttonEl.style.display =\n",
              "        google.colab.kernel.accessAllowed ? 'block' : 'none';\n",
              "\n",
              "      async function convertToInteractive(key) {\n",
              "        const element = document.querySelector('#df-3e73f5d5-513a-473c-9269-a3285e9179a0');\n",
              "        const dataTable =\n",
              "          await google.colab.kernel.invokeFunction('convertToInteractive',\n",
              "                                                    [key], {});\n",
              "        if (!dataTable) return;\n",
              "\n",
              "        const docLinkHtml = 'Like what you see? Visit the ' +\n",
              "          '<a target=\"_blank\" href=https://colab.research.google.com/notebooks/data_table.ipynb>data table notebook</a>'\n",
              "          + ' to learn more about interactive tables.';\n",
              "        element.innerHTML = '';\n",
              "        dataTable['output_type'] = 'display_data';\n",
              "        await google.colab.output.renderOutput(dataTable, element);\n",
              "        const docLink = document.createElement('div');\n",
              "        docLink.innerHTML = docLinkHtml;\n",
              "        element.appendChild(docLink);\n",
              "      }\n",
              "    </script>\n",
              "  </div>\n",
              "\n",
              "\n",
              "<div id=\"df-7f3ba952-c337-4b1a-b512-be4b9f852438\">\n",
              "  <button class=\"colab-df-quickchart\" onclick=\"quickchart('df-7f3ba952-c337-4b1a-b512-be4b9f852438')\"\n",
              "            title=\"Suggest charts\"\n",
              "            style=\"display:none;\">\n",
              "\n",
              "<svg xmlns=\"http://www.w3.org/2000/svg\" height=\"24px\"viewBox=\"0 0 24 24\"\n",
              "     width=\"24px\">\n",
              "    <g>\n",
              "        <path d=\"M19 3H5c-1.1 0-2 .9-2 2v14c0 1.1.9 2 2 2h14c1.1 0 2-.9 2-2V5c0-1.1-.9-2-2-2zM9 17H7v-7h2v7zm4 0h-2V7h2v10zm4 0h-2v-4h2v4z\"/>\n",
              "    </g>\n",
              "</svg>\n",
              "  </button>\n",
              "\n",
              "<style>\n",
              "  .colab-df-quickchart {\n",
              "      --bg-color: #E8F0FE;\n",
              "      --fill-color: #1967D2;\n",
              "      --hover-bg-color: #E2EBFA;\n",
              "      --hover-fill-color: #174EA6;\n",
              "      --disabled-fill-color: #AAA;\n",
              "      --disabled-bg-color: #DDD;\n",
              "  }\n",
              "\n",
              "  [theme=dark] .colab-df-quickchart {\n",
              "      --bg-color: #3B4455;\n",
              "      --fill-color: #D2E3FC;\n",
              "      --hover-bg-color: #434B5C;\n",
              "      --hover-fill-color: #FFFFFF;\n",
              "      --disabled-bg-color: #3B4455;\n",
              "      --disabled-fill-color: #666;\n",
              "  }\n",
              "\n",
              "  .colab-df-quickchart {\n",
              "    background-color: var(--bg-color);\n",
              "    border: none;\n",
              "    border-radius: 50%;\n",
              "    cursor: pointer;\n",
              "    display: none;\n",
              "    fill: var(--fill-color);\n",
              "    height: 32px;\n",
              "    padding: 0;\n",
              "    width: 32px;\n",
              "  }\n",
              "\n",
              "  .colab-df-quickchart:hover {\n",
              "    background-color: var(--hover-bg-color);\n",
              "    box-shadow: 0 1px 2px rgba(60, 64, 67, 0.3), 0 1px 3px 1px rgba(60, 64, 67, 0.15);\n",
              "    fill: var(--button-hover-fill-color);\n",
              "  }\n",
              "\n",
              "  .colab-df-quickchart-complete:disabled,\n",
              "  .colab-df-quickchart-complete:disabled:hover {\n",
              "    background-color: var(--disabled-bg-color);\n",
              "    fill: var(--disabled-fill-color);\n",
              "    box-shadow: none;\n",
              "  }\n",
              "\n",
              "  .colab-df-spinner {\n",
              "    border: 2px solid var(--fill-color);\n",
              "    border-color: transparent;\n",
              "    border-bottom-color: var(--fill-color);\n",
              "    animation:\n",
              "      spin 1s steps(1) infinite;\n",
              "  }\n",
              "\n",
              "  @keyframes spin {\n",
              "    0% {\n",
              "      border-color: transparent;\n",
              "      border-bottom-color: var(--fill-color);\n",
              "      border-left-color: var(--fill-color);\n",
              "    }\n",
              "    20% {\n",
              "      border-color: transparent;\n",
              "      border-left-color: var(--fill-color);\n",
              "      border-top-color: var(--fill-color);\n",
              "    }\n",
              "    30% {\n",
              "      border-color: transparent;\n",
              "      border-left-color: var(--fill-color);\n",
              "      border-top-color: var(--fill-color);\n",
              "      border-right-color: var(--fill-color);\n",
              "    }\n",
              "    40% {\n",
              "      border-color: transparent;\n",
              "      border-right-color: var(--fill-color);\n",
              "      border-top-color: var(--fill-color);\n",
              "    }\n",
              "    60% {\n",
              "      border-color: transparent;\n",
              "      border-right-color: var(--fill-color);\n",
              "    }\n",
              "    80% {\n",
              "      border-color: transparent;\n",
              "      border-right-color: var(--fill-color);\n",
              "      border-bottom-color: var(--fill-color);\n",
              "    }\n",
              "    90% {\n",
              "      border-color: transparent;\n",
              "      border-bottom-color: var(--fill-color);\n",
              "    }\n",
              "  }\n",
              "</style>\n",
              "\n",
              "  <script>\n",
              "    async function quickchart(key) {\n",
              "      const quickchartButtonEl =\n",
              "        document.querySelector('#' + key + ' button');\n",
              "      quickchartButtonEl.disabled = true;  // To prevent multiple clicks.\n",
              "      quickchartButtonEl.classList.add('colab-df-spinner');\n",
              "      try {\n",
              "        const charts = await google.colab.kernel.invokeFunction(\n",
              "            'suggestCharts', [key], {});\n",
              "      } catch (error) {\n",
              "        console.error('Error during call to suggestCharts:', error);\n",
              "      }\n",
              "      quickchartButtonEl.classList.remove('colab-df-spinner');\n",
              "      quickchartButtonEl.classList.add('colab-df-quickchart-complete');\n",
              "    }\n",
              "    (() => {\n",
              "      let quickchartButtonEl =\n",
              "        document.querySelector('#df-7f3ba952-c337-4b1a-b512-be4b9f852438 button');\n",
              "      quickchartButtonEl.style.display =\n",
              "        google.colab.kernel.accessAllowed ? 'block' : 'none';\n",
              "    })();\n",
              "  </script>\n",
              "</div>\n",
              "\n",
              "    </div>\n",
              "  </div>\n"
            ]
          },
          "metadata": {},
          "execution_count": 35
        }
      ]
    },
    {
      "cell_type": "code",
      "source": [
        "# Vamos analisar os dados gerais do data frame\n",
        "df_censo.info()"
      ],
      "metadata": {
        "id": "jIfShFNJM-DQ",
        "outputId": "95e207e9-c227-4635-aea1-c86bc081b6b3",
        "colab": {
          "base_uri": "https://localhost:8080/"
        }
      },
      "execution_count": 36,
      "outputs": [
        {
          "output_type": "stream",
          "name": "stdout",
          "text": [
            "<class 'pandas.core.frame.DataFrame'>\n",
            "RangeIndex: 224649 entries, 0 to 224648\n",
            "Columns: 385 entries, NU_ANO_CENSO to QT_TUR_ESP_CE\n",
            "dtypes: float64(358), int64(11), object(16)\n",
            "memory usage: 659.9+ MB\n"
          ]
        }
      ]
    },
    {
      "cell_type": "code",
      "source": [
        "# Alguns dados estatísticos sobre o DataFrame oferecido pela biblioteca do pandas (aleatório, uma vez que a base possui muitas colunas)\n",
        "print(df_censo.describe())\n"
      ],
      "metadata": {
        "id": "D662n1Bm_Q9h",
        "outputId": "724914dc-6733-4f79-d24f-436536aee4e5",
        "colab": {
          "base_uri": "https://localhost:8080/"
        }
      },
      "execution_count": 37,
      "outputs": [
        {
          "output_type": "stream",
          "name": "stdout",
          "text": [
            "       NU_ANO_CENSO      CO_REGIAO          CO_UF  CO_MUNICIPIO  \\\n",
            "count      224649.0  224649.000000  224649.000000  2.246490e+05   \n",
            "mean         2022.0       2.647040      30.259347  3.041188e+06   \n",
            "std             0.0       1.022897       9.447640  9.484777e+05   \n",
            "min          2022.0       1.000000      11.000000  1.100015e+06   \n",
            "25%          2022.0       2.000000      23.000000  2.313005e+06   \n",
            "50%          2022.0       3.000000      31.000000  3.112604e+06   \n",
            "75%          2022.0       3.000000      35.000000  3.547304e+06   \n",
            "max          2022.0       5.000000      53.000000  5.300108e+06   \n",
            "\n",
            "       CO_MESORREGIAO  CO_MICRORREGIAO   CO_DISTRITO   CO_ENTIDADE  \\\n",
            "count   224649.000000    224649.000000  2.246490e+05  2.246490e+05   \n",
            "mean         5.019159        19.830447  3.041188e+08  3.042829e+07   \n",
            "std          3.872808        17.119943  9.484777e+07  9.449441e+06   \n",
            "min          1.000000         1.000000  1.100015e+08  1.100002e+07   \n",
            "25%          2.000000         7.000000  2.313005e+08  2.327619e+07   \n",
            "50%          4.000000        15.000000  3.112604e+08  3.108828e+07   \n",
            "75%          6.000000        27.000000  3.547304e+08  3.523732e+07   \n",
            "max         15.000000        66.000000  5.300108e+08  5.308803e+07   \n",
            "\n",
            "       TP_DEPENDENCIA  TP_CATEGORIA_ESCOLA_PRIVADA  ...  QT_TUR_FUND_AF  \\\n",
            "count   224649.000000                 41759.000000  ...   178346.000000   \n",
            "mean         3.101915                     1.656769  ...        2.822087   \n",
            "std          0.639568                     1.194840  ...        4.828169   \n",
            "min          1.000000                     1.000000  ...        0.000000   \n",
            "25%          3.000000                     1.000000  ...        0.000000   \n",
            "50%          3.000000                     1.000000  ...        0.000000   \n",
            "75%          4.000000                     2.000000  ...        4.000000   \n",
            "max          4.000000                     4.000000  ...       94.000000   \n",
            "\n",
            "          QT_TUR_MED    QT_TUR_PROF  QT_TUR_PROF_TEC     QT_TUR_EJA  \\\n",
            "count  178346.000000  178346.000000    178346.000000  178346.000000   \n",
            "mean        1.496383       0.450871         0.423604       0.677520   \n",
            "std         4.721087       3.658270         3.521317       3.031475   \n",
            "min         0.000000       0.000000         0.000000       0.000000   \n",
            "25%         0.000000       0.000000         0.000000       0.000000   \n",
            "50%         0.000000       0.000000         0.000000       0.000000   \n",
            "75%         0.000000       0.000000         0.000000       0.000000   \n",
            "max       167.000000     424.000000       424.000000     365.000000   \n",
            "\n",
            "       QT_TUR_EJA_FUND  QT_TUR_EJA_MED     QT_TUR_ESP  QT_TUR_ESP_CC  \\\n",
            "count    178346.000000   178346.000000  178346.000000  178346.000000   \n",
            "mean          0.469374        0.208146       4.794747       4.676954   \n",
            "std           1.987312        1.710352       6.146976       6.064907   \n",
            "min           0.000000        0.000000       0.000000       0.000000   \n",
            "25%           0.000000        0.000000       0.000000       0.000000   \n",
            "50%           0.000000        0.000000       2.000000       2.000000   \n",
            "75%           0.000000        0.000000       7.000000       7.000000   \n",
            "max         151.000000      268.000000     146.000000     146.000000   \n",
            "\n",
            "       QT_TUR_ESP_CE  \n",
            "count  178346.000000  \n",
            "mean        0.117794  \n",
            "std         1.338076  \n",
            "min         0.000000  \n",
            "25%         0.000000  \n",
            "50%         0.000000  \n",
            "75%         0.000000  \n",
            "max        65.000000  \n",
            "\n",
            "[8 rows x 369 columns]\n"
          ]
        }
      ]
    },
    {
      "cell_type": "markdown",
      "source": [
        "Realizando uma leitura com a inclusão dos data frames de 2016 a 2022 estaríamos trabalhando com 1.608.985 de registros e 385 colunas iniciais, das quais iniciaremos uma limpeza (higienização) de colunas as quais não utilizaremos, assim como linhas de registros que não nos serão uteis , como de registros de entidades não privadas, colunas sem valores e linhas vazias. Todavia inicialmente trabalharemos com o DataFrame de 2022 que possui 385 colunas e 224.649 registros."
      ],
      "metadata": {
        "id": "KOsMU9QULrgU"
      }
    },
    {
      "cell_type": "code",
      "source": [
        "# Vamos iniciar a higienização, excluindo os 15 campos novos incluidos no CENSO de 2022 que para este momento não agregarão valor e ficaremos com as 370 colunas\n",
        "# que são comuns aos demais censos\n",
        "colNovoCENSO = ['IN_PODER_PUBLICO_PARCERIA','TP_PODER_PUBLICO_PARCERIA','IN_FORMA_CONT_TERMO_COLABORA','IN_FORMA_CONT_TERMO_FOMENTO','IN_FORMA_CONT_ACORDO_COOP','IN_FORMA_CONT_PRESTACAO_SERV','IN_FORMA_CONT_COOP_TEC_FIN','IN_FORMA_CONT_CONSORCIO_PUB','IN_TIPO_ATEND_ESCOLARIZACAO','IN_TIPO_ATEND_AC','IN_TIPO_ATEND_AEE','IN_LABORATORIO_EDUC_PROF','IN_SALA_OFICINAS_EDUC_PROF','IN_MATERIAL_PED_PROFISSIONAL','IN_ESCOLARIZACAO']\n",
        "df_censo=df_censo.drop(colNovoCENSO,axis=1)\n",
        "\n"
      ],
      "metadata": {
        "id": "vEgolLlmML0N"
      },
      "execution_count": 38,
      "outputs": []
    },
    {
      "cell_type": "code",
      "source": [
        "# Relendo a quantidade de colunas\n",
        "df_censo.head()"
      ],
      "metadata": {
        "id": "7Rw7_9IVRXJ3",
        "outputId": "8d386979-d388-4710-dd6d-376a5623b36f",
        "colab": {
          "base_uri": "https://localhost:8080/",
          "height": 342
        }
      },
      "execution_count": 39,
      "outputs": [
        {
          "output_type": "execute_result",
          "data": {
            "text/plain": [
              "   NU_ANO_CENSO NO_REGIAO  CO_REGIAO     NO_UF SG_UF  CO_UF  \\\n",
              "0          2022     Norte          1  Rondônia    RO     11   \n",
              "1          2022     Norte          1  Rondônia    RO     11   \n",
              "2          2022     Norte          1  Rondônia    RO     11   \n",
              "3          2022     Norte          1  Rondônia    RO     11   \n",
              "4          2022     Norte          1  Rondônia    RO     11   \n",
              "\n",
              "            NO_MUNICIPIO  CO_MUNICIPIO     NO_MESORREGIAO  CO_MESORREGIAO  \\\n",
              "0  Alta Floresta D'Oeste       1100015  Leste Rondoniense               2   \n",
              "1  Alta Floresta D'Oeste       1100015  Leste Rondoniense               2   \n",
              "2  Alta Floresta D'Oeste       1100015  Leste Rondoniense               2   \n",
              "3  Alta Floresta D'Oeste       1100015  Leste Rondoniense               2   \n",
              "4  Alta Floresta D'Oeste       1100015  Leste Rondoniense               2   \n",
              "\n",
              "   ... QT_TUR_FUND_AF  QT_TUR_MED  QT_TUR_PROF QT_TUR_PROF_TEC  QT_TUR_EJA  \\\n",
              "0  ...            0.0         0.0          0.0             0.0         0.0   \n",
              "1  ...            0.0         0.0          0.0             0.0        10.0   \n",
              "2  ...            1.0         0.0          0.0             0.0         0.0   \n",
              "3  ...            6.0         0.0          0.0             0.0         0.0   \n",
              "4  ...            5.0         0.0          0.0             0.0         0.0   \n",
              "\n",
              "   QT_TUR_EJA_FUND  QT_TUR_EJA_MED  QT_TUR_ESP  QT_TUR_ESP_CC QT_TUR_ESP_CE  \n",
              "0              0.0             0.0         0.0            0.0           0.0  \n",
              "1              6.0             4.0         3.0            3.0           0.0  \n",
              "2              0.0             0.0         0.0            0.0           0.0  \n",
              "3              0.0             0.0         1.0            1.0           0.0  \n",
              "4              0.0             0.0         3.0            3.0           0.0  \n",
              "\n",
              "[5 rows x 370 columns]"
            ],
            "text/html": [
              "\n",
              "  <div id=\"df-0424ac57-80bb-4eec-b238-091323dd6d0b\" class=\"colab-df-container\">\n",
              "    <div>\n",
              "<style scoped>\n",
              "    .dataframe tbody tr th:only-of-type {\n",
              "        vertical-align: middle;\n",
              "    }\n",
              "\n",
              "    .dataframe tbody tr th {\n",
              "        vertical-align: top;\n",
              "    }\n",
              "\n",
              "    .dataframe thead th {\n",
              "        text-align: right;\n",
              "    }\n",
              "</style>\n",
              "<table border=\"1\" class=\"dataframe\">\n",
              "  <thead>\n",
              "    <tr style=\"text-align: right;\">\n",
              "      <th></th>\n",
              "      <th>NU_ANO_CENSO</th>\n",
              "      <th>NO_REGIAO</th>\n",
              "      <th>CO_REGIAO</th>\n",
              "      <th>NO_UF</th>\n",
              "      <th>SG_UF</th>\n",
              "      <th>CO_UF</th>\n",
              "      <th>NO_MUNICIPIO</th>\n",
              "      <th>CO_MUNICIPIO</th>\n",
              "      <th>NO_MESORREGIAO</th>\n",
              "      <th>CO_MESORREGIAO</th>\n",
              "      <th>...</th>\n",
              "      <th>QT_TUR_FUND_AF</th>\n",
              "      <th>QT_TUR_MED</th>\n",
              "      <th>QT_TUR_PROF</th>\n",
              "      <th>QT_TUR_PROF_TEC</th>\n",
              "      <th>QT_TUR_EJA</th>\n",
              "      <th>QT_TUR_EJA_FUND</th>\n",
              "      <th>QT_TUR_EJA_MED</th>\n",
              "      <th>QT_TUR_ESP</th>\n",
              "      <th>QT_TUR_ESP_CC</th>\n",
              "      <th>QT_TUR_ESP_CE</th>\n",
              "    </tr>\n",
              "  </thead>\n",
              "  <tbody>\n",
              "    <tr>\n",
              "      <th>0</th>\n",
              "      <td>2022</td>\n",
              "      <td>Norte</td>\n",
              "      <td>1</td>\n",
              "      <td>Rondônia</td>\n",
              "      <td>RO</td>\n",
              "      <td>11</td>\n",
              "      <td>Alta Floresta D'Oeste</td>\n",
              "      <td>1100015</td>\n",
              "      <td>Leste Rondoniense</td>\n",
              "      <td>2</td>\n",
              "      <td>...</td>\n",
              "      <td>0.0</td>\n",
              "      <td>0.0</td>\n",
              "      <td>0.0</td>\n",
              "      <td>0.0</td>\n",
              "      <td>0.0</td>\n",
              "      <td>0.0</td>\n",
              "      <td>0.0</td>\n",
              "      <td>0.0</td>\n",
              "      <td>0.0</td>\n",
              "      <td>0.0</td>\n",
              "    </tr>\n",
              "    <tr>\n",
              "      <th>1</th>\n",
              "      <td>2022</td>\n",
              "      <td>Norte</td>\n",
              "      <td>1</td>\n",
              "      <td>Rondônia</td>\n",
              "      <td>RO</td>\n",
              "      <td>11</td>\n",
              "      <td>Alta Floresta D'Oeste</td>\n",
              "      <td>1100015</td>\n",
              "      <td>Leste Rondoniense</td>\n",
              "      <td>2</td>\n",
              "      <td>...</td>\n",
              "      <td>0.0</td>\n",
              "      <td>0.0</td>\n",
              "      <td>0.0</td>\n",
              "      <td>0.0</td>\n",
              "      <td>10.0</td>\n",
              "      <td>6.0</td>\n",
              "      <td>4.0</td>\n",
              "      <td>3.0</td>\n",
              "      <td>3.0</td>\n",
              "      <td>0.0</td>\n",
              "    </tr>\n",
              "    <tr>\n",
              "      <th>2</th>\n",
              "      <td>2022</td>\n",
              "      <td>Norte</td>\n",
              "      <td>1</td>\n",
              "      <td>Rondônia</td>\n",
              "      <td>RO</td>\n",
              "      <td>11</td>\n",
              "      <td>Alta Floresta D'Oeste</td>\n",
              "      <td>1100015</td>\n",
              "      <td>Leste Rondoniense</td>\n",
              "      <td>2</td>\n",
              "      <td>...</td>\n",
              "      <td>1.0</td>\n",
              "      <td>0.0</td>\n",
              "      <td>0.0</td>\n",
              "      <td>0.0</td>\n",
              "      <td>0.0</td>\n",
              "      <td>0.0</td>\n",
              "      <td>0.0</td>\n",
              "      <td>0.0</td>\n",
              "      <td>0.0</td>\n",
              "      <td>0.0</td>\n",
              "    </tr>\n",
              "    <tr>\n",
              "      <th>3</th>\n",
              "      <td>2022</td>\n",
              "      <td>Norte</td>\n",
              "      <td>1</td>\n",
              "      <td>Rondônia</td>\n",
              "      <td>RO</td>\n",
              "      <td>11</td>\n",
              "      <td>Alta Floresta D'Oeste</td>\n",
              "      <td>1100015</td>\n",
              "      <td>Leste Rondoniense</td>\n",
              "      <td>2</td>\n",
              "      <td>...</td>\n",
              "      <td>6.0</td>\n",
              "      <td>0.0</td>\n",
              "      <td>0.0</td>\n",
              "      <td>0.0</td>\n",
              "      <td>0.0</td>\n",
              "      <td>0.0</td>\n",
              "      <td>0.0</td>\n",
              "      <td>1.0</td>\n",
              "      <td>1.0</td>\n",
              "      <td>0.0</td>\n",
              "    </tr>\n",
              "    <tr>\n",
              "      <th>4</th>\n",
              "      <td>2022</td>\n",
              "      <td>Norte</td>\n",
              "      <td>1</td>\n",
              "      <td>Rondônia</td>\n",
              "      <td>RO</td>\n",
              "      <td>11</td>\n",
              "      <td>Alta Floresta D'Oeste</td>\n",
              "      <td>1100015</td>\n",
              "      <td>Leste Rondoniense</td>\n",
              "      <td>2</td>\n",
              "      <td>...</td>\n",
              "      <td>5.0</td>\n",
              "      <td>0.0</td>\n",
              "      <td>0.0</td>\n",
              "      <td>0.0</td>\n",
              "      <td>0.0</td>\n",
              "      <td>0.0</td>\n",
              "      <td>0.0</td>\n",
              "      <td>3.0</td>\n",
              "      <td>3.0</td>\n",
              "      <td>0.0</td>\n",
              "    </tr>\n",
              "  </tbody>\n",
              "</table>\n",
              "<p>5 rows × 370 columns</p>\n",
              "</div>\n",
              "    <div class=\"colab-df-buttons\">\n",
              "\n",
              "  <div class=\"colab-df-container\">\n",
              "    <button class=\"colab-df-convert\" onclick=\"convertToInteractive('df-0424ac57-80bb-4eec-b238-091323dd6d0b')\"\n",
              "            title=\"Convert this dataframe to an interactive table.\"\n",
              "            style=\"display:none;\">\n",
              "\n",
              "  <svg xmlns=\"http://www.w3.org/2000/svg\" height=\"24px\" viewBox=\"0 -960 960 960\">\n",
              "    <path d=\"M120-120v-720h720v720H120Zm60-500h600v-160H180v160Zm220 220h160v-160H400v160Zm0 220h160v-160H400v160ZM180-400h160v-160H180v160Zm440 0h160v-160H620v160ZM180-180h160v-160H180v160Zm440 0h160v-160H620v160Z\"/>\n",
              "  </svg>\n",
              "    </button>\n",
              "\n",
              "  <style>\n",
              "    .colab-df-container {\n",
              "      display:flex;\n",
              "      gap: 12px;\n",
              "    }\n",
              "\n",
              "    .colab-df-convert {\n",
              "      background-color: #E8F0FE;\n",
              "      border: none;\n",
              "      border-radius: 50%;\n",
              "      cursor: pointer;\n",
              "      display: none;\n",
              "      fill: #1967D2;\n",
              "      height: 32px;\n",
              "      padding: 0 0 0 0;\n",
              "      width: 32px;\n",
              "    }\n",
              "\n",
              "    .colab-df-convert:hover {\n",
              "      background-color: #E2EBFA;\n",
              "      box-shadow: 0px 1px 2px rgba(60, 64, 67, 0.3), 0px 1px 3px 1px rgba(60, 64, 67, 0.15);\n",
              "      fill: #174EA6;\n",
              "    }\n",
              "\n",
              "    .colab-df-buttons div {\n",
              "      margin-bottom: 4px;\n",
              "    }\n",
              "\n",
              "    [theme=dark] .colab-df-convert {\n",
              "      background-color: #3B4455;\n",
              "      fill: #D2E3FC;\n",
              "    }\n",
              "\n",
              "    [theme=dark] .colab-df-convert:hover {\n",
              "      background-color: #434B5C;\n",
              "      box-shadow: 0px 1px 3px 1px rgba(0, 0, 0, 0.15);\n",
              "      filter: drop-shadow(0px 1px 2px rgba(0, 0, 0, 0.3));\n",
              "      fill: #FFFFFF;\n",
              "    }\n",
              "  </style>\n",
              "\n",
              "    <script>\n",
              "      const buttonEl =\n",
              "        document.querySelector('#df-0424ac57-80bb-4eec-b238-091323dd6d0b button.colab-df-convert');\n",
              "      buttonEl.style.display =\n",
              "        google.colab.kernel.accessAllowed ? 'block' : 'none';\n",
              "\n",
              "      async function convertToInteractive(key) {\n",
              "        const element = document.querySelector('#df-0424ac57-80bb-4eec-b238-091323dd6d0b');\n",
              "        const dataTable =\n",
              "          await google.colab.kernel.invokeFunction('convertToInteractive',\n",
              "                                                    [key], {});\n",
              "        if (!dataTable) return;\n",
              "\n",
              "        const docLinkHtml = 'Like what you see? Visit the ' +\n",
              "          '<a target=\"_blank\" href=https://colab.research.google.com/notebooks/data_table.ipynb>data table notebook</a>'\n",
              "          + ' to learn more about interactive tables.';\n",
              "        element.innerHTML = '';\n",
              "        dataTable['output_type'] = 'display_data';\n",
              "        await google.colab.output.renderOutput(dataTable, element);\n",
              "        const docLink = document.createElement('div');\n",
              "        docLink.innerHTML = docLinkHtml;\n",
              "        element.appendChild(docLink);\n",
              "      }\n",
              "    </script>\n",
              "  </div>\n",
              "\n",
              "\n",
              "<div id=\"df-b3bf27dc-8092-4221-8414-fd040401ef24\">\n",
              "  <button class=\"colab-df-quickchart\" onclick=\"quickchart('df-b3bf27dc-8092-4221-8414-fd040401ef24')\"\n",
              "            title=\"Suggest charts\"\n",
              "            style=\"display:none;\">\n",
              "\n",
              "<svg xmlns=\"http://www.w3.org/2000/svg\" height=\"24px\"viewBox=\"0 0 24 24\"\n",
              "     width=\"24px\">\n",
              "    <g>\n",
              "        <path d=\"M19 3H5c-1.1 0-2 .9-2 2v14c0 1.1.9 2 2 2h14c1.1 0 2-.9 2-2V5c0-1.1-.9-2-2-2zM9 17H7v-7h2v7zm4 0h-2V7h2v10zm4 0h-2v-4h2v4z\"/>\n",
              "    </g>\n",
              "</svg>\n",
              "  </button>\n",
              "\n",
              "<style>\n",
              "  .colab-df-quickchart {\n",
              "      --bg-color: #E8F0FE;\n",
              "      --fill-color: #1967D2;\n",
              "      --hover-bg-color: #E2EBFA;\n",
              "      --hover-fill-color: #174EA6;\n",
              "      --disabled-fill-color: #AAA;\n",
              "      --disabled-bg-color: #DDD;\n",
              "  }\n",
              "\n",
              "  [theme=dark] .colab-df-quickchart {\n",
              "      --bg-color: #3B4455;\n",
              "      --fill-color: #D2E3FC;\n",
              "      --hover-bg-color: #434B5C;\n",
              "      --hover-fill-color: #FFFFFF;\n",
              "      --disabled-bg-color: #3B4455;\n",
              "      --disabled-fill-color: #666;\n",
              "  }\n",
              "\n",
              "  .colab-df-quickchart {\n",
              "    background-color: var(--bg-color);\n",
              "    border: none;\n",
              "    border-radius: 50%;\n",
              "    cursor: pointer;\n",
              "    display: none;\n",
              "    fill: var(--fill-color);\n",
              "    height: 32px;\n",
              "    padding: 0;\n",
              "    width: 32px;\n",
              "  }\n",
              "\n",
              "  .colab-df-quickchart:hover {\n",
              "    background-color: var(--hover-bg-color);\n",
              "    box-shadow: 0 1px 2px rgba(60, 64, 67, 0.3), 0 1px 3px 1px rgba(60, 64, 67, 0.15);\n",
              "    fill: var(--button-hover-fill-color);\n",
              "  }\n",
              "\n",
              "  .colab-df-quickchart-complete:disabled,\n",
              "  .colab-df-quickchart-complete:disabled:hover {\n",
              "    background-color: var(--disabled-bg-color);\n",
              "    fill: var(--disabled-fill-color);\n",
              "    box-shadow: none;\n",
              "  }\n",
              "\n",
              "  .colab-df-spinner {\n",
              "    border: 2px solid var(--fill-color);\n",
              "    border-color: transparent;\n",
              "    border-bottom-color: var(--fill-color);\n",
              "    animation:\n",
              "      spin 1s steps(1) infinite;\n",
              "  }\n",
              "\n",
              "  @keyframes spin {\n",
              "    0% {\n",
              "      border-color: transparent;\n",
              "      border-bottom-color: var(--fill-color);\n",
              "      border-left-color: var(--fill-color);\n",
              "    }\n",
              "    20% {\n",
              "      border-color: transparent;\n",
              "      border-left-color: var(--fill-color);\n",
              "      border-top-color: var(--fill-color);\n",
              "    }\n",
              "    30% {\n",
              "      border-color: transparent;\n",
              "      border-left-color: var(--fill-color);\n",
              "      border-top-color: var(--fill-color);\n",
              "      border-right-color: var(--fill-color);\n",
              "    }\n",
              "    40% {\n",
              "      border-color: transparent;\n",
              "      border-right-color: var(--fill-color);\n",
              "      border-top-color: var(--fill-color);\n",
              "    }\n",
              "    60% {\n",
              "      border-color: transparent;\n",
              "      border-right-color: var(--fill-color);\n",
              "    }\n",
              "    80% {\n",
              "      border-color: transparent;\n",
              "      border-right-color: var(--fill-color);\n",
              "      border-bottom-color: var(--fill-color);\n",
              "    }\n",
              "    90% {\n",
              "      border-color: transparent;\n",
              "      border-bottom-color: var(--fill-color);\n",
              "    }\n",
              "  }\n",
              "</style>\n",
              "\n",
              "  <script>\n",
              "    async function quickchart(key) {\n",
              "      const quickchartButtonEl =\n",
              "        document.querySelector('#' + key + ' button');\n",
              "      quickchartButtonEl.disabled = true;  // To prevent multiple clicks.\n",
              "      quickchartButtonEl.classList.add('colab-df-spinner');\n",
              "      try {\n",
              "        const charts = await google.colab.kernel.invokeFunction(\n",
              "            'suggestCharts', [key], {});\n",
              "      } catch (error) {\n",
              "        console.error('Error during call to suggestCharts:', error);\n",
              "      }\n",
              "      quickchartButtonEl.classList.remove('colab-df-spinner');\n",
              "      quickchartButtonEl.classList.add('colab-df-quickchart-complete');\n",
              "    }\n",
              "    (() => {\n",
              "      let quickchartButtonEl =\n",
              "        document.querySelector('#df-b3bf27dc-8092-4221-8414-fd040401ef24 button');\n",
              "      quickchartButtonEl.style.display =\n",
              "        google.colab.kernel.accessAllowed ? 'block' : 'none';\n",
              "    })();\n",
              "  </script>\n",
              "</div>\n",
              "\n",
              "    </div>\n",
              "  </div>\n"
            ]
          },
          "metadata": {},
          "execution_count": 39
        }
      ]
    },
    {
      "cell_type": "markdown",
      "source": [
        "Os dados do CENSO foram divididos em categorias(vide dicionário de dados), são estas:\n",
        "\n",
        "*   Cadastro da Escola\n",
        "*   Dados da escola\n",
        "*   Dados de oferta de matrícula\n",
        "*   Número de Matrículas na Educação Básica\n",
        "*   Número de Matrículas na Educação Básica - Segundo o Gênero do Aluno\n",
        "*   Número de Matrículas na Educação Básica - Segundo a Cor/Raça do Aluno\n",
        "*   Número de Matrículas na Educação Básica - Segundo a Faixa Etária do Aluno\n",
        "*   Número de Matrículas na Educação Básica - Segundo o Turno do Aluno\n",
        "*   Número de Matrículas na Educação Básica - Tempo Integral (Turma com sete ou mais horas de duração diária)\n",
        "*   Número de Docentes da Educação Básica\n",
        "*   Número de Turmas de Educação Básica\n",
        "\n",
        "Dentre estas categorias, vamos excluir colunas a priori não desnecessárias, que são referentes ao tipo de estrutura fisica das entidades e vamos ficar com as quantitativas e de subdvisão das entidades privadas e localização, as demais abaixo serão descartadas:\n",
        "\n",
        " 'NU_DDD','NU_TELEFONE','IN_VINCULO_SECRETARIA_EDUCACAO','IN_VINCULO_SEGURANCA_PUBLICA','IN_VINCULO_SECRETARIA_SAUDE','IN_VINCULO_OUTRO_ORGAO',\n",
        "'IN_CONVENIADA_PP','TP_CONVENIO_PODER_PUBLICO','NU_CNPJ_ESCOLA_PRIVADA','NU_CNPJ_MANTENEDORA','TP_RESPONSAVEL_REGULAMENTACAO','CO_ESCOLA_SEDE_VINCULADA',\n",
        "'CO_IES_OFERTANTE','IN_LOCAL_FUNC_PREDIO_ESCOLAR','TP_OCUPACAO_PREDIO_ESCOLAR','IN_LOCAL_FUNC_SALAS_EMPRESA','IN_LOCAL_FUNC_SOCIOEDUCATIVO',\n",
        "'IN_LOCAL_FUNC_UNID_PRISIONAL','IN_LOCAL_FUNC_PRISIONAL_SOCIO','IN_LOCAL_FUNC_CASA_PROFESSOR','IN_LOCAL_FUNC_GALPAO','TP_OCUPACAO_GALPAO',\n",
        "'IN_LOCAL_FUNC_SALAS_OUTRA_ESC','IN_LOCAL_FUNC_OUTROS','IN_PREDIO_COMPARTILHADO','IN_AGUA_FILTRADA','IN_AGUA_POTAVEL','IN_AGUA_REDE_PUBLICA',\n",
        "'IN_AGUA_POCO_ARTESIANO','IN_AGUA_CACIMBA','IN_AGUA_FONTE_RIO','IN_AGUA_INEXISTENTE','IN_ENERGIA_REDE_PUBLICA','IN_ENERGIA_GERADOR',\n",
        "'IN_ENERGIA_GERADOR_FOSSIL','IN_ENERGIA_OUTROS','IN_ENERGIA_RENOVAVEL','IN_ENERGIA_INEXISTENTE','IN_ESGOTO_REDE_PUBLICA','IN_ESGOTO_FOSSA_SEPTICA','IN_ESGOTO_FOSSA_COMUM','IN_ESGOTO_FOSSA',\n",
        "'IN_ESGOTO_INEXISTENTE','IN_LIXO_SERVICO_COLETA','IN_LIXO_QUEIMA','IN_LIXO_ENTERRA','IN_LIXO_DESTINO_FINAL_PUBLICO','IN_LIXO_DESCARTA_OUTRA_AREA',\n",
        "'IN_LIXO_JOGA_OUTRA_AREA','IN_LIXO_OUTROS','IN_LIXO_RECICLA','IN_TRATAMENTO_LIXO_SEPARACAO','IN_TRATAMENTO_LIXO_REUTILIZA','IN_TRATAMENTO_LIXO_RECICLAGEM',\n",
        "'IN_TRATAMENTO_LIXO_INEXISTENTE','IN_ALMOXARIFADO','IN_AREA_VERDE','IN_AUDITORIO','IN_BANHEIRO_FORA_PREDIO','IN_BANHEIRO_DENTRO_PREDIO','IN_BANHEIRO',\n",
        "'IN_BANHEIRO_EI','IN_BANHEIRO_PNE','IN_BANHEIRO_FUNCIONARIOS','IN_BANHEIRO_CHUVEIRO','IN_BERCARIO','IN_BIBLIOTECA','IN_BIBLIOTECA_SALA_LEITURA','IN_COZINHA',\n",
        "'IN_DESPENSA','IN_DORMITORIO_ALUNO','IN_DORMITORIO_PROFESSOR','IN_LABORATORIO_CIENCIAS','IN_PATIO_COBERTO','IN_PATIO_DESCOBERTO','IN_PARQUE_INFANTIL',\n",
        "'IN_PISCINA','IN_QUADRA_ESPORTES','IN_QUADRA_ESPORTES_COBERTA','IN_QUADRA_ESPORTES_DESCOBERTA','IN_REFEITORIO','IN_SALA_ATELIE_ARTES','IN_SALA_ESTUDIO_DANCA',\n",
        "'IN_SALA_MULTIUSO','IN_SALA_DIRETORIA','IN_SALA_LEITURA','IN_SALA_PROFESSOR','IN_SALA_REPOUSO_ALUNO','IN_SECRETARIA','IN_TERREIRAO','IN_VIVEIRO',\n",
        "'IN_DEPENDENCIAS_PNE','IN_LAVANDERIA','IN_DEPENDENCIAS_OUTRAS','IN_ACESSIBILIDADE_CORRIMAO','IN_ACESSIBILIDADE_ELEVADOR','IN_ACESSIBILIDADE_PISOS_TATEIS',\n",
        "'IN_ACESSIBILIDADE_VAO_LIVRE','IN_ACESSIBILIDADE_RAMPAS','IN_ACESSIBILIDADE_SINAL_SONORO','IN_ACESSIBILIDADE_SINAL_TATIL','IN_ACESSIBILIDADE_SINAL_VISUAL',\n",
        "'IN_ACESSIBILIDADE_INEXISTENTE','QT_SALAS_UTILIZADAS_DENTRO','QT_SALAS_UTILIZADAS_FORA','QT_SALAS_UTILIZA_CLIMATIZADAS','QT_SALAS_UTILIZADAS_ACESSIVEIS',\n",
        "'IN_EQUIP_PARABOLICA','IN_COMPUTADOR','IN_EQUIP_COPIADORA','IN_EQUIP_IMPRESSORA','IN_EQUIP_IMPRESSORA_MULT','IN_EQUIP_SCANNER','IN_EQUIP_NENHUM',\n",
        "'IN_EQUIP_DVD','QT_EQUIP_DVD','IN_EQUIP_SOM','QT_EQUIP_SOM','IN_EQUIP_TV','QT_EQUIP_TV','IN_EQUIP_LOUSA_DIGITAL','QT_EQUIP_LOUSA_DIGITAL',\n",
        "'IN_EQUIP_MULTIMIDIA','QT_EQUIP_MULTIMIDIA','IN_EQUIP_VIDEOCASSETE','IN_EQUIP_RETROPROJETOR','IN_EQUIP_FAX','IN_EQUIP_FOTO','QT_EQUIP_VIDEOCASSETE',\n",
        "'QT_EQUIP_PARABOLICA','QT_EQUIP_COPIADORA','QT_EQUIP_RETROPROJETOR','QT_EQUIP_IMPRESSORA','QT_EQUIP_IMPRESSORA_MULT','QT_EQUIP_FAX','QT_EQUIP_FOTO',\n",
        "'IN_INTERNET_ADMINISTRATIVO','IN_INTERNET_COMUNIDADE','TP_REDE_LOCAL','IN_BANDA_LARGA','IN_PROF_ADMINISTRATIVOS','QT_PROF_ADMINISTRATIVOS','IN_PROF_SERVICOS_GERAIS',\n",
        "'QT_PROF_SERVICOS_GERAIS','IN_PROF_BIBLIOTECARIO','QT_PROF_BIBLIOTECARIO','IN_PROF_SAUDE','QT_PROF_SAUDE','IN_PROF_COORDENADOR','QT_PROF_COORDENADOR',\n",
        "'IN_PROF_FONAUDIOLOGO','QT_PROF_FONAUDIOLOGO','IN_PROF_NUTRICIONISTA','QT_PROF_NUTRICIONISTA','IN_PROF_PSICOLOGO','QT_PROF_PSICOLOGO','IN_PROF_ALIMENTACAO',\n",
        "'QT_PROF_ALIMENTACAO','IN_PROF_PEDAGOGIA','QT_PROF_PEDAGOGIA','IN_PROF_SECRETARIO','QT_PROF_SECRETARIO','IN_PROF_SEGURANCA','QT_PROF_SEGURANCA','IN_PROF_MONITORES',\n",
        "'QT_PROF_MONITORES','IN_PROF_GESTAO','QT_PROF_GESTAO','IN_PROF_ASSIST_SOCIAL','QT_PROF_ASSIST_SOCIAL','IN_ALIMENTACAO','IN_MATERIAL_PED_DESPORTIVA',\n",
        "'IN_MATERIAL_PED_INDIGENA','IN_MATERIAL_PED_ETNICO','IN_MATERIAL_PED_CAMPO','IN_MATERIAL_PED_NENHUM','IN_MATERIAL_ESP_QUILOMBOLA','IN_MATERIAL_ESP_INDIGENA',\n",
        "'IN_MATERIAL_ESP_NAO_UTILIZA','TP_INDIGENA_LINGUA','CO_LINGUA_INDIGENA_1','CO_LINGUA_INDIGENA_2','CO_LINGUA_INDIGENA_3','IN_REDES_SOCIAIS',\n",
        "'IN_ESPACO_ATIVIDADE','IN_ESPACO_EQUIPAMENTO','IN_ORGAO_ASS_PAIS','IN_ORGAO_ASS_PAIS_MESTRES','IN_ORGAO_CONSELHO_ESCOLAR','IN_ORGAO_GREMIO_ESTUDANTIL',\n",
        "'IN_ORGAO_OUTROS','IN_ORGAO_NENHUM','TP_PROPOSTA_PEDAGOGICA','TP_AEE','TP_ATIVIDADE_COMPLEMENTAR','IN_PROF','IN_PROF_TEC','IN_EJA','IN_EJA_FUND',\n",
        "'IN_EJA_MED','IN_ESP','IN_ESP_CC','IN_ESP_CE','QT_MAT_PROF_TEC','QT_MAT_EJA','QT_MAT_EJA_FUND','QT_MAT_EJA_MED','QT_MAT_ESP','QT_MAT_ESP_CC','QT_MAT_ESP_CE'\n",
        "\n",
        "\n",
        "\n",
        "\n"
      ],
      "metadata": {
        "id": "6kI1oeV2R6cw"
      }
    },
    {
      "cell_type": "code",
      "source": [
        "# Excluindo outras colunas que não utilizaremos a priori, pois são dados interligados em sua maioria a analise de estrutura\n",
        "# física e dos ambiente das instituições.\n",
        "\n",
        "colexpurgoCENSO = ['NU_DDD','NU_TELEFONE','IN_VINCULO_SECRETARIA_EDUCACAO','IN_VINCULO_SEGURANCA_PUBLICA','IN_VINCULO_SECRETARIA_SAUDE','IN_VINCULO_OUTRO_ORGAO',\n",
        "'IN_CONVENIADA_PP','TP_CONVENIO_PODER_PUBLICO','NU_CNPJ_ESCOLA_PRIVADA','NU_CNPJ_MANTENEDORA','TP_RESPONSAVEL_REGULAMENTACAO','CO_ESCOLA_SEDE_VINCULADA',\n",
        "'CO_IES_OFERTANTE','IN_LOCAL_FUNC_PREDIO_ESCOLAR','TP_OCUPACAO_PREDIO_ESCOLAR','IN_LOCAL_FUNC_SALAS_EMPRESA','IN_LOCAL_FUNC_SOCIOEDUCATIVO',\n",
        "'IN_LOCAL_FUNC_UNID_PRISIONAL','IN_LOCAL_FUNC_PRISIONAL_SOCIO','IN_LOCAL_FUNC_CASA_PROFESSOR','IN_LOCAL_FUNC_GALPAO','TP_OCUPACAO_GALPAO',\n",
        "'IN_LOCAL_FUNC_SALAS_OUTRA_ESC','IN_LOCAL_FUNC_OUTROS','IN_PREDIO_COMPARTILHADO','IN_AGUA_FILTRADA','IN_AGUA_POTAVEL','IN_AGUA_REDE_PUBLICA',\n",
        "'IN_AGUA_POCO_ARTESIANO','IN_AGUA_CACIMBA','IN_AGUA_FONTE_RIO','IN_AGUA_INEXISTENTE','IN_ENERGIA_REDE_PUBLICA','IN_ENERGIA_GERADOR',\n",
        "'IN_ENERGIA_GERADOR_FOSSIL','IN_ENERGIA_OUTROS','IN_ENERGIA_RENOVAVEL','IN_ENERGIA_INEXISTENTE','IN_ESGOTO_REDE_PUBLICA','IN_ESGOTO_FOSSA_SEPTICA','IN_ESGOTO_FOSSA_COMUM','IN_ESGOTO_FOSSA',\n",
        "'IN_ESGOTO_INEXISTENTE','IN_LIXO_SERVICO_COLETA','IN_LIXO_QUEIMA','IN_LIXO_ENTERRA','IN_LIXO_DESTINO_FINAL_PUBLICO','IN_LIXO_DESCARTA_OUTRA_AREA',\n",
        "'IN_LIXO_JOGA_OUTRA_AREA','IN_LIXO_OUTROS','IN_LIXO_RECICLA','IN_TRATAMENTO_LIXO_SEPARACAO','IN_TRATAMENTO_LIXO_REUTILIZA','IN_TRATAMENTO_LIXO_RECICLAGEM',\n",
        "'IN_TRATAMENTO_LIXO_INEXISTENTE','IN_ALMOXARIFADO','IN_AREA_VERDE','IN_AUDITORIO','IN_BANHEIRO_FORA_PREDIO','IN_BANHEIRO_DENTRO_PREDIO','IN_BANHEIRO',\n",
        "'IN_BANHEIRO_EI','IN_BANHEIRO_PNE','IN_BANHEIRO_FUNCIONARIOS','IN_BANHEIRO_CHUVEIRO','IN_BERCARIO','IN_BIBLIOTECA','IN_BIBLIOTECA_SALA_LEITURA','IN_COZINHA',\n",
        "'IN_DESPENSA','IN_DORMITORIO_ALUNO','IN_DORMITORIO_PROFESSOR','IN_LABORATORIO_CIENCIAS','IN_PATIO_COBERTO','IN_PATIO_DESCOBERTO','IN_PARQUE_INFANTIL',\n",
        "'IN_PISCINA','IN_QUADRA_ESPORTES','IN_QUADRA_ESPORTES_COBERTA','IN_QUADRA_ESPORTES_DESCOBERTA','IN_REFEITORIO','IN_SALA_ATELIE_ARTES','IN_SALA_ESTUDIO_DANCA',\n",
        "'IN_SALA_MULTIUSO','IN_SALA_DIRETORIA','IN_SALA_LEITURA','IN_SALA_PROFESSOR','IN_SALA_REPOUSO_ALUNO','IN_SECRETARIA','IN_TERREIRAO','IN_VIVEIRO',\n",
        "'IN_DEPENDENCIAS_PNE','IN_LAVANDERIA','IN_DEPENDENCIAS_OUTRAS','IN_ACESSIBILIDADE_CORRIMAO','IN_ACESSIBILIDADE_ELEVADOR','IN_ACESSIBILIDADE_PISOS_TATEIS',\n",
        "'IN_ACESSIBILIDADE_VAO_LIVRE','IN_ACESSIBILIDADE_RAMPAS','IN_ACESSIBILIDADE_SINAL_SONORO','IN_ACESSIBILIDADE_SINAL_TATIL','IN_ACESSIBILIDADE_SINAL_VISUAL',\n",
        "'IN_ACESSIBILIDADE_INEXISTENTE','QT_SALAS_UTILIZADAS_DENTRO','QT_SALAS_UTILIZADAS_FORA','QT_SALAS_UTILIZA_CLIMATIZADAS','QT_SALAS_UTILIZADAS_ACESSIVEIS',\n",
        "'IN_EQUIP_PARABOLICA','IN_COMPUTADOR','IN_EQUIP_COPIADORA','IN_EQUIP_IMPRESSORA','IN_EQUIP_IMPRESSORA_MULT','IN_EQUIP_SCANNER','IN_EQUIP_NENHUM',\n",
        "'IN_EQUIP_DVD','QT_EQUIP_DVD','IN_EQUIP_SOM','QT_EQUIP_SOM','IN_EQUIP_TV','QT_EQUIP_TV','IN_EQUIP_LOUSA_DIGITAL','QT_EQUIP_LOUSA_DIGITAL',\n",
        "'IN_EQUIP_MULTIMIDIA','QT_EQUIP_MULTIMIDIA','IN_EQUIP_VIDEOCASSETE','IN_EQUIP_RETROPROJETOR','IN_EQUIP_FAX','IN_EQUIP_FOTO','QT_EQUIP_VIDEOCASSETE',\n",
        "'QT_EQUIP_PARABOLICA','QT_EQUIP_COPIADORA','QT_EQUIP_RETROPROJETOR','QT_EQUIP_IMPRESSORA','QT_EQUIP_IMPRESSORA_MULT','QT_EQUIP_FAX','QT_EQUIP_FOTO',\n",
        "'IN_INTERNET_ADMINISTRATIVO','IN_INTERNET_COMUNIDADE','TP_REDE_LOCAL','IN_BANDA_LARGA','IN_PROF_ADMINISTRATIVOS','QT_PROF_ADMINISTRATIVOS','IN_PROF_SERVICOS_GERAIS',\n",
        "'QT_PROF_SERVICOS_GERAIS','IN_PROF_BIBLIOTECARIO','QT_PROF_BIBLIOTECARIO','IN_PROF_SAUDE','QT_PROF_SAUDE','IN_PROF_COORDENADOR','QT_PROF_COORDENADOR',\n",
        "'IN_PROF_FONAUDIOLOGO','QT_PROF_FONAUDIOLOGO','IN_PROF_NUTRICIONISTA','QT_PROF_NUTRICIONISTA','IN_PROF_PSICOLOGO','QT_PROF_PSICOLOGO','IN_PROF_ALIMENTACAO',\n",
        "'QT_PROF_ALIMENTACAO','IN_PROF_PEDAGOGIA','QT_PROF_PEDAGOGIA','IN_PROF_SECRETARIO','QT_PROF_SECRETARIO','IN_PROF_SEGURANCA','QT_PROF_SEGURANCA','IN_PROF_MONITORES',\n",
        "'QT_PROF_MONITORES','IN_PROF_GESTAO','QT_PROF_GESTAO','IN_PROF_ASSIST_SOCIAL','QT_PROF_ASSIST_SOCIAL','IN_ALIMENTACAO','IN_MATERIAL_PED_DESPORTIVA',\n",
        "'IN_MATERIAL_PED_INDIGENA','IN_MATERIAL_PED_ETNICO','IN_MATERIAL_PED_CAMPO','IN_MATERIAL_PED_NENHUM','IN_MATERIAL_ESP_QUILOMBOLA','IN_MATERIAL_ESP_INDIGENA',\n",
        "'IN_MATERIAL_ESP_NAO_UTILIZA','TP_INDIGENA_LINGUA','CO_LINGUA_INDIGENA_1','CO_LINGUA_INDIGENA_2','CO_LINGUA_INDIGENA_3','IN_REDES_SOCIAIS',\n",
        "'IN_ESPACO_ATIVIDADE','IN_ESPACO_EQUIPAMENTO','IN_ORGAO_ASS_PAIS','IN_ORGAO_ASS_PAIS_MESTRES','IN_ORGAO_CONSELHO_ESCOLAR','IN_ORGAO_GREMIO_ESTUDANTIL',\n",
        "'IN_ORGAO_OUTROS','IN_ORGAO_NENHUM','TP_PROPOSTA_PEDAGOGICA','TP_AEE','TP_ATIVIDADE_COMPLEMENTAR','IN_PROF','IN_PROF_TEC','IN_EJA','IN_EJA_FUND',\n",
        "'IN_EJA_MED','IN_ESP','IN_ESP_CC','IN_ESP_CE','QT_MAT_PROF_TEC','QT_MAT_EJA','QT_MAT_EJA_FUND','QT_MAT_EJA_MED','QT_MAT_ESP','QT_MAT_ESP_CC','QT_MAT_ESP_CE'\n",
        "]\n",
        "df_censo = df_censo.drop(colexpurgoCENSO,axis=1)\n",
        "\n"
      ],
      "metadata": {
        "id": "T_nk5pzERfA9"
      },
      "execution_count": 40,
      "outputs": []
    },
    {
      "cell_type": "code",
      "source": [
        "#Vamos apagar também todas as colunas que contem somente NaN\n",
        "\n",
        "df_censo = df_censo.dropna(axis=1, how='all')"
      ],
      "metadata": {
        "id": "amg-4f7AiUZZ"
      },
      "execution_count": 41,
      "outputs": []
    },
    {
      "cell_type": "markdown",
      "source": [
        "Com a exclusão das colunas acima trabalharemos com um menor número de colunas, mas ainda utilizaremos todos os registros que contém informações de entidades particulares e públicas, afim de mensurar nosso universo de dados."
      ],
      "metadata": {
        "id": "NKuROBmT_o1j"
      }
    },
    {
      "cell_type": "code",
      "source": [
        "df_censo.head()"
      ],
      "metadata": {
        "colab": {
          "base_uri": "https://localhost:8080/",
          "height": 342
        },
        "id": "4w1ULFRCeJ9k",
        "outputId": "1d49fbc7-f8ea-4fca-d76b-5fcf733ca44d"
      },
      "execution_count": 42,
      "outputs": [
        {
          "output_type": "execute_result",
          "data": {
            "text/plain": [
              "   NU_ANO_CENSO NO_REGIAO  CO_REGIAO     NO_UF SG_UF  CO_UF  \\\n",
              "0          2022     Norte          1  Rondônia    RO     11   \n",
              "1          2022     Norte          1  Rondônia    RO     11   \n",
              "2          2022     Norte          1  Rondônia    RO     11   \n",
              "3          2022     Norte          1  Rondônia    RO     11   \n",
              "4          2022     Norte          1  Rondônia    RO     11   \n",
              "\n",
              "            NO_MUNICIPIO  CO_MUNICIPIO     NO_MESORREGIAO  CO_MESORREGIAO  \\\n",
              "0  Alta Floresta D'Oeste       1100015  Leste Rondoniense               2   \n",
              "1  Alta Floresta D'Oeste       1100015  Leste Rondoniense               2   \n",
              "2  Alta Floresta D'Oeste       1100015  Leste Rondoniense               2   \n",
              "3  Alta Floresta D'Oeste       1100015  Leste Rondoniense               2   \n",
              "4  Alta Floresta D'Oeste       1100015  Leste Rondoniense               2   \n",
              "\n",
              "   ... QT_TUR_FUND_AF  QT_TUR_MED  QT_TUR_PROF QT_TUR_PROF_TEC  QT_TUR_EJA  \\\n",
              "0  ...            0.0         0.0          0.0             0.0         0.0   \n",
              "1  ...            0.0         0.0          0.0             0.0        10.0   \n",
              "2  ...            1.0         0.0          0.0             0.0         0.0   \n",
              "3  ...            6.0         0.0          0.0             0.0         0.0   \n",
              "4  ...            5.0         0.0          0.0             0.0         0.0   \n",
              "\n",
              "   QT_TUR_EJA_FUND  QT_TUR_EJA_MED  QT_TUR_ESP  QT_TUR_ESP_CC QT_TUR_ESP_CE  \n",
              "0              0.0             0.0         0.0            0.0           0.0  \n",
              "1              6.0             4.0         3.0            3.0           0.0  \n",
              "2              0.0             0.0         0.0            0.0           0.0  \n",
              "3              0.0             0.0         1.0            1.0           0.0  \n",
              "4              0.0             0.0         3.0            3.0           0.0  \n",
              "\n",
              "[5 rows x 146 columns]"
            ],
            "text/html": [
              "\n",
              "  <div id=\"df-a340db30-8ba0-46c4-87ed-0136437c3866\" class=\"colab-df-container\">\n",
              "    <div>\n",
              "<style scoped>\n",
              "    .dataframe tbody tr th:only-of-type {\n",
              "        vertical-align: middle;\n",
              "    }\n",
              "\n",
              "    .dataframe tbody tr th {\n",
              "        vertical-align: top;\n",
              "    }\n",
              "\n",
              "    .dataframe thead th {\n",
              "        text-align: right;\n",
              "    }\n",
              "</style>\n",
              "<table border=\"1\" class=\"dataframe\">\n",
              "  <thead>\n",
              "    <tr style=\"text-align: right;\">\n",
              "      <th></th>\n",
              "      <th>NU_ANO_CENSO</th>\n",
              "      <th>NO_REGIAO</th>\n",
              "      <th>CO_REGIAO</th>\n",
              "      <th>NO_UF</th>\n",
              "      <th>SG_UF</th>\n",
              "      <th>CO_UF</th>\n",
              "      <th>NO_MUNICIPIO</th>\n",
              "      <th>CO_MUNICIPIO</th>\n",
              "      <th>NO_MESORREGIAO</th>\n",
              "      <th>CO_MESORREGIAO</th>\n",
              "      <th>...</th>\n",
              "      <th>QT_TUR_FUND_AF</th>\n",
              "      <th>QT_TUR_MED</th>\n",
              "      <th>QT_TUR_PROF</th>\n",
              "      <th>QT_TUR_PROF_TEC</th>\n",
              "      <th>QT_TUR_EJA</th>\n",
              "      <th>QT_TUR_EJA_FUND</th>\n",
              "      <th>QT_TUR_EJA_MED</th>\n",
              "      <th>QT_TUR_ESP</th>\n",
              "      <th>QT_TUR_ESP_CC</th>\n",
              "      <th>QT_TUR_ESP_CE</th>\n",
              "    </tr>\n",
              "  </thead>\n",
              "  <tbody>\n",
              "    <tr>\n",
              "      <th>0</th>\n",
              "      <td>2022</td>\n",
              "      <td>Norte</td>\n",
              "      <td>1</td>\n",
              "      <td>Rondônia</td>\n",
              "      <td>RO</td>\n",
              "      <td>11</td>\n",
              "      <td>Alta Floresta D'Oeste</td>\n",
              "      <td>1100015</td>\n",
              "      <td>Leste Rondoniense</td>\n",
              "      <td>2</td>\n",
              "      <td>...</td>\n",
              "      <td>0.0</td>\n",
              "      <td>0.0</td>\n",
              "      <td>0.0</td>\n",
              "      <td>0.0</td>\n",
              "      <td>0.0</td>\n",
              "      <td>0.0</td>\n",
              "      <td>0.0</td>\n",
              "      <td>0.0</td>\n",
              "      <td>0.0</td>\n",
              "      <td>0.0</td>\n",
              "    </tr>\n",
              "    <tr>\n",
              "      <th>1</th>\n",
              "      <td>2022</td>\n",
              "      <td>Norte</td>\n",
              "      <td>1</td>\n",
              "      <td>Rondônia</td>\n",
              "      <td>RO</td>\n",
              "      <td>11</td>\n",
              "      <td>Alta Floresta D'Oeste</td>\n",
              "      <td>1100015</td>\n",
              "      <td>Leste Rondoniense</td>\n",
              "      <td>2</td>\n",
              "      <td>...</td>\n",
              "      <td>0.0</td>\n",
              "      <td>0.0</td>\n",
              "      <td>0.0</td>\n",
              "      <td>0.0</td>\n",
              "      <td>10.0</td>\n",
              "      <td>6.0</td>\n",
              "      <td>4.0</td>\n",
              "      <td>3.0</td>\n",
              "      <td>3.0</td>\n",
              "      <td>0.0</td>\n",
              "    </tr>\n",
              "    <tr>\n",
              "      <th>2</th>\n",
              "      <td>2022</td>\n",
              "      <td>Norte</td>\n",
              "      <td>1</td>\n",
              "      <td>Rondônia</td>\n",
              "      <td>RO</td>\n",
              "      <td>11</td>\n",
              "      <td>Alta Floresta D'Oeste</td>\n",
              "      <td>1100015</td>\n",
              "      <td>Leste Rondoniense</td>\n",
              "      <td>2</td>\n",
              "      <td>...</td>\n",
              "      <td>1.0</td>\n",
              "      <td>0.0</td>\n",
              "      <td>0.0</td>\n",
              "      <td>0.0</td>\n",
              "      <td>0.0</td>\n",
              "      <td>0.0</td>\n",
              "      <td>0.0</td>\n",
              "      <td>0.0</td>\n",
              "      <td>0.0</td>\n",
              "      <td>0.0</td>\n",
              "    </tr>\n",
              "    <tr>\n",
              "      <th>3</th>\n",
              "      <td>2022</td>\n",
              "      <td>Norte</td>\n",
              "      <td>1</td>\n",
              "      <td>Rondônia</td>\n",
              "      <td>RO</td>\n",
              "      <td>11</td>\n",
              "      <td>Alta Floresta D'Oeste</td>\n",
              "      <td>1100015</td>\n",
              "      <td>Leste Rondoniense</td>\n",
              "      <td>2</td>\n",
              "      <td>...</td>\n",
              "      <td>6.0</td>\n",
              "      <td>0.0</td>\n",
              "      <td>0.0</td>\n",
              "      <td>0.0</td>\n",
              "      <td>0.0</td>\n",
              "      <td>0.0</td>\n",
              "      <td>0.0</td>\n",
              "      <td>1.0</td>\n",
              "      <td>1.0</td>\n",
              "      <td>0.0</td>\n",
              "    </tr>\n",
              "    <tr>\n",
              "      <th>4</th>\n",
              "      <td>2022</td>\n",
              "      <td>Norte</td>\n",
              "      <td>1</td>\n",
              "      <td>Rondônia</td>\n",
              "      <td>RO</td>\n",
              "      <td>11</td>\n",
              "      <td>Alta Floresta D'Oeste</td>\n",
              "      <td>1100015</td>\n",
              "      <td>Leste Rondoniense</td>\n",
              "      <td>2</td>\n",
              "      <td>...</td>\n",
              "      <td>5.0</td>\n",
              "      <td>0.0</td>\n",
              "      <td>0.0</td>\n",
              "      <td>0.0</td>\n",
              "      <td>0.0</td>\n",
              "      <td>0.0</td>\n",
              "      <td>0.0</td>\n",
              "      <td>3.0</td>\n",
              "      <td>3.0</td>\n",
              "      <td>0.0</td>\n",
              "    </tr>\n",
              "  </tbody>\n",
              "</table>\n",
              "<p>5 rows × 146 columns</p>\n",
              "</div>\n",
              "    <div class=\"colab-df-buttons\">\n",
              "\n",
              "  <div class=\"colab-df-container\">\n",
              "    <button class=\"colab-df-convert\" onclick=\"convertToInteractive('df-a340db30-8ba0-46c4-87ed-0136437c3866')\"\n",
              "            title=\"Convert this dataframe to an interactive table.\"\n",
              "            style=\"display:none;\">\n",
              "\n",
              "  <svg xmlns=\"http://www.w3.org/2000/svg\" height=\"24px\" viewBox=\"0 -960 960 960\">\n",
              "    <path d=\"M120-120v-720h720v720H120Zm60-500h600v-160H180v160Zm220 220h160v-160H400v160Zm0 220h160v-160H400v160ZM180-400h160v-160H180v160Zm440 0h160v-160H620v160ZM180-180h160v-160H180v160Zm440 0h160v-160H620v160Z\"/>\n",
              "  </svg>\n",
              "    </button>\n",
              "\n",
              "  <style>\n",
              "    .colab-df-container {\n",
              "      display:flex;\n",
              "      gap: 12px;\n",
              "    }\n",
              "\n",
              "    .colab-df-convert {\n",
              "      background-color: #E8F0FE;\n",
              "      border: none;\n",
              "      border-radius: 50%;\n",
              "      cursor: pointer;\n",
              "      display: none;\n",
              "      fill: #1967D2;\n",
              "      height: 32px;\n",
              "      padding: 0 0 0 0;\n",
              "      width: 32px;\n",
              "    }\n",
              "\n",
              "    .colab-df-convert:hover {\n",
              "      background-color: #E2EBFA;\n",
              "      box-shadow: 0px 1px 2px rgba(60, 64, 67, 0.3), 0px 1px 3px 1px rgba(60, 64, 67, 0.15);\n",
              "      fill: #174EA6;\n",
              "    }\n",
              "\n",
              "    .colab-df-buttons div {\n",
              "      margin-bottom: 4px;\n",
              "    }\n",
              "\n",
              "    [theme=dark] .colab-df-convert {\n",
              "      background-color: #3B4455;\n",
              "      fill: #D2E3FC;\n",
              "    }\n",
              "\n",
              "    [theme=dark] .colab-df-convert:hover {\n",
              "      background-color: #434B5C;\n",
              "      box-shadow: 0px 1px 3px 1px rgba(0, 0, 0, 0.15);\n",
              "      filter: drop-shadow(0px 1px 2px rgba(0, 0, 0, 0.3));\n",
              "      fill: #FFFFFF;\n",
              "    }\n",
              "  </style>\n",
              "\n",
              "    <script>\n",
              "      const buttonEl =\n",
              "        document.querySelector('#df-a340db30-8ba0-46c4-87ed-0136437c3866 button.colab-df-convert');\n",
              "      buttonEl.style.display =\n",
              "        google.colab.kernel.accessAllowed ? 'block' : 'none';\n",
              "\n",
              "      async function convertToInteractive(key) {\n",
              "        const element = document.querySelector('#df-a340db30-8ba0-46c4-87ed-0136437c3866');\n",
              "        const dataTable =\n",
              "          await google.colab.kernel.invokeFunction('convertToInteractive',\n",
              "                                                    [key], {});\n",
              "        if (!dataTable) return;\n",
              "\n",
              "        const docLinkHtml = 'Like what you see? Visit the ' +\n",
              "          '<a target=\"_blank\" href=https://colab.research.google.com/notebooks/data_table.ipynb>data table notebook</a>'\n",
              "          + ' to learn more about interactive tables.';\n",
              "        element.innerHTML = '';\n",
              "        dataTable['output_type'] = 'display_data';\n",
              "        await google.colab.output.renderOutput(dataTable, element);\n",
              "        const docLink = document.createElement('div');\n",
              "        docLink.innerHTML = docLinkHtml;\n",
              "        element.appendChild(docLink);\n",
              "      }\n",
              "    </script>\n",
              "  </div>\n",
              "\n",
              "\n",
              "<div id=\"df-4ea4027d-9e53-4d13-82a8-b68586b22a38\">\n",
              "  <button class=\"colab-df-quickchart\" onclick=\"quickchart('df-4ea4027d-9e53-4d13-82a8-b68586b22a38')\"\n",
              "            title=\"Suggest charts\"\n",
              "            style=\"display:none;\">\n",
              "\n",
              "<svg xmlns=\"http://www.w3.org/2000/svg\" height=\"24px\"viewBox=\"0 0 24 24\"\n",
              "     width=\"24px\">\n",
              "    <g>\n",
              "        <path d=\"M19 3H5c-1.1 0-2 .9-2 2v14c0 1.1.9 2 2 2h14c1.1 0 2-.9 2-2V5c0-1.1-.9-2-2-2zM9 17H7v-7h2v7zm4 0h-2V7h2v10zm4 0h-2v-4h2v4z\"/>\n",
              "    </g>\n",
              "</svg>\n",
              "  </button>\n",
              "\n",
              "<style>\n",
              "  .colab-df-quickchart {\n",
              "      --bg-color: #E8F0FE;\n",
              "      --fill-color: #1967D2;\n",
              "      --hover-bg-color: #E2EBFA;\n",
              "      --hover-fill-color: #174EA6;\n",
              "      --disabled-fill-color: #AAA;\n",
              "      --disabled-bg-color: #DDD;\n",
              "  }\n",
              "\n",
              "  [theme=dark] .colab-df-quickchart {\n",
              "      --bg-color: #3B4455;\n",
              "      --fill-color: #D2E3FC;\n",
              "      --hover-bg-color: #434B5C;\n",
              "      --hover-fill-color: #FFFFFF;\n",
              "      --disabled-bg-color: #3B4455;\n",
              "      --disabled-fill-color: #666;\n",
              "  }\n",
              "\n",
              "  .colab-df-quickchart {\n",
              "    background-color: var(--bg-color);\n",
              "    border: none;\n",
              "    border-radius: 50%;\n",
              "    cursor: pointer;\n",
              "    display: none;\n",
              "    fill: var(--fill-color);\n",
              "    height: 32px;\n",
              "    padding: 0;\n",
              "    width: 32px;\n",
              "  }\n",
              "\n",
              "  .colab-df-quickchart:hover {\n",
              "    background-color: var(--hover-bg-color);\n",
              "    box-shadow: 0 1px 2px rgba(60, 64, 67, 0.3), 0 1px 3px 1px rgba(60, 64, 67, 0.15);\n",
              "    fill: var(--button-hover-fill-color);\n",
              "  }\n",
              "\n",
              "  .colab-df-quickchart-complete:disabled,\n",
              "  .colab-df-quickchart-complete:disabled:hover {\n",
              "    background-color: var(--disabled-bg-color);\n",
              "    fill: var(--disabled-fill-color);\n",
              "    box-shadow: none;\n",
              "  }\n",
              "\n",
              "  .colab-df-spinner {\n",
              "    border: 2px solid var(--fill-color);\n",
              "    border-color: transparent;\n",
              "    border-bottom-color: var(--fill-color);\n",
              "    animation:\n",
              "      spin 1s steps(1) infinite;\n",
              "  }\n",
              "\n",
              "  @keyframes spin {\n",
              "    0% {\n",
              "      border-color: transparent;\n",
              "      border-bottom-color: var(--fill-color);\n",
              "      border-left-color: var(--fill-color);\n",
              "    }\n",
              "    20% {\n",
              "      border-color: transparent;\n",
              "      border-left-color: var(--fill-color);\n",
              "      border-top-color: var(--fill-color);\n",
              "    }\n",
              "    30% {\n",
              "      border-color: transparent;\n",
              "      border-left-color: var(--fill-color);\n",
              "      border-top-color: var(--fill-color);\n",
              "      border-right-color: var(--fill-color);\n",
              "    }\n",
              "    40% {\n",
              "      border-color: transparent;\n",
              "      border-right-color: var(--fill-color);\n",
              "      border-top-color: var(--fill-color);\n",
              "    }\n",
              "    60% {\n",
              "      border-color: transparent;\n",
              "      border-right-color: var(--fill-color);\n",
              "    }\n",
              "    80% {\n",
              "      border-color: transparent;\n",
              "      border-right-color: var(--fill-color);\n",
              "      border-bottom-color: var(--fill-color);\n",
              "    }\n",
              "    90% {\n",
              "      border-color: transparent;\n",
              "      border-bottom-color: var(--fill-color);\n",
              "    }\n",
              "  }\n",
              "</style>\n",
              "\n",
              "  <script>\n",
              "    async function quickchart(key) {\n",
              "      const quickchartButtonEl =\n",
              "        document.querySelector('#' + key + ' button');\n",
              "      quickchartButtonEl.disabled = true;  // To prevent multiple clicks.\n",
              "      quickchartButtonEl.classList.add('colab-df-spinner');\n",
              "      try {\n",
              "        const charts = await google.colab.kernel.invokeFunction(\n",
              "            'suggestCharts', [key], {});\n",
              "      } catch (error) {\n",
              "        console.error('Error during call to suggestCharts:', error);\n",
              "      }\n",
              "      quickchartButtonEl.classList.remove('colab-df-spinner');\n",
              "      quickchartButtonEl.classList.add('colab-df-quickchart-complete');\n",
              "    }\n",
              "    (() => {\n",
              "      let quickchartButtonEl =\n",
              "        document.querySelector('#df-4ea4027d-9e53-4d13-82a8-b68586b22a38 button');\n",
              "      quickchartButtonEl.style.display =\n",
              "        google.colab.kernel.accessAllowed ? 'block' : 'none';\n",
              "    })();\n",
              "  </script>\n",
              "</div>\n",
              "\n",
              "    </div>\n",
              "  </div>\n"
            ]
          },
          "metadata": {},
          "execution_count": 42
        }
      ]
    },
    {
      "cell_type": "code",
      "source": [
        "df_censo.info()"
      ],
      "metadata": {
        "colab": {
          "base_uri": "https://localhost:8080/"
        },
        "id": "iTOIAiU7grlJ",
        "outputId": "b55da2bb-a700-41a2-c335-94f7e7dab79b"
      },
      "execution_count": 43,
      "outputs": [
        {
          "output_type": "stream",
          "name": "stdout",
          "text": [
            "<class 'pandas.core.frame.DataFrame'>\n",
            "RangeIndex: 224649 entries, 0 to 224648\n",
            "Columns: 146 entries, NU_ANO_CENSO to QT_TUR_ESP_CE\n",
            "dtypes: float64(121), int64(11), object(14)\n",
            "memory usage: 250.2+ MB\n"
          ]
        }
      ]
    },
    {
      "cell_type": "code",
      "source": [
        "#verificando colunas com valores nulos\n",
        "df_censo.isnull().sum()"
      ],
      "metadata": {
        "colab": {
          "base_uri": "https://localhost:8080/"
        },
        "id": "afCPEIFpAD8K",
        "outputId": "57a2b381-8091-4391-e65d-fe90ab084c60"
      },
      "execution_count": 44,
      "outputs": [
        {
          "output_type": "execute_result",
          "data": {
            "text/plain": [
              "NU_ANO_CENSO           0\n",
              "NO_REGIAO              0\n",
              "CO_REGIAO              0\n",
              "NO_UF                  0\n",
              "SG_UF                  0\n",
              "                   ...  \n",
              "QT_TUR_EJA_FUND    46303\n",
              "QT_TUR_EJA_MED     46303\n",
              "QT_TUR_ESP         46303\n",
              "QT_TUR_ESP_CC      46303\n",
              "QT_TUR_ESP_CE      46303\n",
              "Length: 146, dtype: int64"
            ]
          },
          "metadata": {},
          "execution_count": 44
        }
      ]
    },
    {
      "cell_type": "markdown",
      "source": [
        "Temos acima alguns campos que ainda estão sem valor, devido a ausência de dados no censo."
      ],
      "metadata": {
        "id": "NjBBvG_LC_cu"
      }
    },
    {
      "cell_type": "code",
      "source": [
        "#Conferindo  a cituação atual do Data Frame\n",
        "df_censo.shape"
      ],
      "metadata": {
        "colab": {
          "base_uri": "https://localhost:8080/"
        },
        "id": "M3K-snC1f1jx",
        "outputId": "da2a1efa-7458-442f-8e61-3f562766a996"
      },
      "execution_count": 45,
      "outputs": [
        {
          "output_type": "execute_result",
          "data": {
            "text/plain": [
              "(224649, 146)"
            ]
          },
          "metadata": {},
          "execution_count": 45
        }
      ]
    },
    {
      "cell_type": "code",
      "source": [
        "#Criando um loop para realizar uma leitura individual de cada coluna, trazendo o nome, valores unicos e tipo das mesmas para uma analise\n",
        "for col in df_censo.columns:\n",
        "    if len(df_censo[col].unique()) < 10:\n",
        "        print(col,df_censo[col].unique(),df_censo[col].dtypes)"
      ],
      "metadata": {
        "colab": {
          "base_uri": "https://localhost:8080/"
        },
        "id": "B9WJBiaQhBx-",
        "outputId": "48cba121-0efb-4539-d37b-622a563a0b32"
      },
      "execution_count": 46,
      "outputs": [
        {
          "output_type": "stream",
          "name": "stdout",
          "text": [
            "NU_ANO_CENSO [2022] int64\n",
            "NO_REGIAO ['Norte' 'Nordeste' 'Sudeste' 'Sul' 'Centro-Oeste'] object\n",
            "CO_REGIAO [1 2 3 4 5] int64\n",
            "TP_DEPENDENCIA [2 3 4 1] int64\n",
            "TP_CATEGORIA_ESCOLA_PRIVADA [nan  4.  1.  3.  2.] float64\n",
            "TP_LOCALIZACAO [2 1] int64\n",
            "TP_LOCALIZACAO_DIFERENCIADA [ 2.  0. nan  1.  3.] float64\n",
            "TP_SITUACAO_FUNCIONAMENTO [1 2 3] int64\n",
            "IN_MANT_ESCOLA_PRIVADA_EMP [nan  0.  1.] float64\n",
            "IN_MANT_ESCOLA_PRIVADA_ONG [nan  0.  1.] float64\n",
            "IN_MANT_ESCOLA_PRIVADA_OSCIP [nan  0.  1.] float64\n",
            "IN_MANT_ESCOLA_PRIV_ONG_OSCIP [nan  0.  1.] float64\n",
            "IN_MANT_ESCOLA_PRIVADA_SIND [nan  0.  1.] float64\n",
            "IN_MANT_ESCOLA_PRIVADA_SIST_S [nan  0.  1.] float64\n",
            "IN_MANT_ESCOLA_PRIVADA_S_FINS [nan  1.  0.] float64\n",
            "TP_REGULAMENTACAO [ 1. nan  2.  0.] float64\n",
            "IN_LABORATORIO_INFORMATICA [ 0.  1. nan] float64\n",
            "IN_SALA_MUSICA_CORAL [ 0. nan  1.] float64\n",
            "IN_SALA_ATENDIMENTO_ESPECIAL [ 0.  1. nan] float64\n",
            "IN_DESKTOP_ALUNO [ 0.  1. nan] float64\n",
            "IN_COMP_PORTATIL_ALUNO [ 0.  1. nan] float64\n",
            "IN_TABLET_ALUNO [ 0. nan  1.] float64\n",
            "IN_INTERNET [ 0.  1. nan] float64\n",
            "IN_INTERNET_ALUNOS [ 0.  1. nan] float64\n",
            "IN_INTERNET_APRENDIZAGEM [ 0.  1. nan] float64\n",
            "IN_ACESSO_INTERNET_COMPUTADOR [ 0.  1. nan  9.] float64\n",
            "IN_ACES_INTERNET_DISP_PESSOAIS [ 0.  1. nan  9.] float64\n",
            "IN_MATERIAL_PED_MULTIMIDIA [ 0.  1. nan] float64\n",
            "IN_MATERIAL_PED_INFANTIL [ 0.  1. nan] float64\n",
            "IN_MATERIAL_PED_CIENTIFICO [ 0.  1. nan] float64\n",
            "IN_MATERIAL_PED_DIFUSAO [ 0.  1. nan] float64\n",
            "IN_MATERIAL_PED_MUSICAL [ 0.  1. nan] float64\n",
            "IN_MATERIAL_PED_JOGOS [ 0.  1. nan] float64\n",
            "IN_MATERIAL_PED_ARTISTICAS [ 0.  1. nan] float64\n",
            "IN_EDUCACAO_INDIGENA [ 1.  0. nan] float64\n",
            "IN_EXAME_SELECAO [ 0.  1. nan  9.] float64\n",
            "IN_RESERVA_PPI [nan  0.  1.] float64\n",
            "IN_RESERVA_RENDA [nan  0.  1.] float64\n",
            "IN_RESERVA_PUBLICA [nan  1.  0.] float64\n",
            "IN_RESERVA_PCD [nan  0.  1.] float64\n",
            "IN_RESERVA_OUTROS [nan  0.  1.] float64\n",
            "IN_RESERVA_NENHUMA [nan  0.  1.] float64\n",
            "IN_MEDIACAO_PRESENCIAL [ 1. nan  0.] float64\n",
            "IN_MEDIACAO_SEMIPRESENCIAL [ 0.  1. nan] float64\n",
            "IN_MEDIACAO_EAD [ 0. nan  1.] float64\n",
            "IN_REGULAR [ 1.  0. nan] float64\n",
            "IN_DIURNO [ 1. nan  0.] float64\n",
            "IN_NOTURNO [ 0.  1. nan] float64\n",
            "IN_EAD [ 0.  1. nan] float64\n",
            "IN_BAS [ 1. nan] float64\n",
            "IN_INF [ 0.  1. nan] float64\n",
            "IN_INF_CRE [ 0. nan  1.] float64\n",
            "IN_INF_PRE [ 0.  1. nan] float64\n",
            "IN_FUND [ 1.  0. nan] float64\n",
            "IN_FUND_AI [ 1.  0. nan] float64\n",
            "IN_FUND_AF [ 0.  1. nan] float64\n",
            "IN_MED [ 0.  1. nan] float64\n"
          ]
        }
      ]
    },
    {
      "cell_type": "markdown",
      "source": [
        "Como analisado acima, nossa limpeza inicial foi bem sucedida, temos colunas com valores únicos e sem campos nullos."
      ],
      "metadata": {
        "id": "0kFAG80eCg5B"
      }
    },
    {
      "cell_type": "markdown",
      "source": [
        "Como o foco do nosso estudo são as entidades privadas, vamos começar a analisar como se encontram os dados no campo TP_DEPENDENCIA, que segundo o dicionário de dados classifica os tipos em :\n",
        "1 - Federal\n",
        "2 - Estadual\n",
        "3 - Municipal\n",
        "4 - Privada"
      ],
      "metadata": {
        "id": "OHOuf2TfFtOk"
      }
    },
    {
      "cell_type": "code",
      "source": [
        "#Leitura quantitativa do campo\n",
        "\n",
        "df_censo['TP_DEPENDENCIA'].value_counts()"
      ],
      "metadata": {
        "colab": {
          "base_uri": "https://localhost:8080/"
        },
        "id": "l3sxio8coiNf",
        "outputId": "fb382994-611a-468d-aa3e-d05edb25210c"
      },
      "execution_count": 47,
      "outputs": [
        {
          "output_type": "execute_result",
          "data": {
            "text/plain": [
              "3    132629\n",
              "4     57825\n",
              "2     33460\n",
              "1       735\n",
              "Name: TP_DEPENDENCIA, dtype: int64"
            ]
          },
          "metadata": {},
          "execution_count": 47
        }
      ]
    },
    {
      "cell_type": "markdown",
      "source": [
        "Como observado acima, teremos que trocar estes códigos pelos nomes dos dicionário, código abaixo:"
      ],
      "metadata": {
        "id": "Yqo5X73OGKd0"
      }
    },
    {
      "cell_type": "code",
      "source": [
        "# Mapear os valores na coluna 'TP_DEPENDENCIA'\n",
        "mapeamento = {\n",
        "    1: 'Federal',\n",
        "    2: 'Estadual',\n",
        "    3: 'Municipal',\n",
        "    4: 'Privada'\n",
        "}\n",
        "df_censo['TP_DEPENDENCIA'] = df_censo['TP_DEPENDENCIA'].replace(mapeamento)\n",
        "\n",
        "#Releitura quantitativa do campo TP_DEPENDENCIA\n",
        "df_censo['TP_DEPENDENCIA'].value_counts()"
      ],
      "metadata": {
        "id": "2VbUeJsqGXa2",
        "outputId": "7f33b06a-0d43-446a-f07a-c6a1d56b33c2",
        "colab": {
          "base_uri": "https://localhost:8080/"
        }
      },
      "execution_count": 51,
      "outputs": [
        {
          "output_type": "execute_result",
          "data": {
            "text/plain": [
              "Municipal    132629\n",
              "Privada       57825\n",
              "Estadual      33460\n",
              "Federal         735\n",
              "Name: TP_DEPENDENCIA, dtype: int64"
            ]
          },
          "metadata": {},
          "execution_count": 51
        }
      ]
    },
    {
      "cell_type": "markdown",
      "source": [
        "Analisando o dicionário de dados, vê-se a necessidade de realizar o tratamento acima para outros campos relacionados às entidades, tais como:\n",
        "\n",
        "*   TP_CATEGORIA_ESCOLA_PRIVADA\n",
        "*   TP_SITUACAO_FUNCIONAMENTO\n",
        "\n",
        "Tratamento realizado abaixo:"
      ],
      "metadata": {
        "id": "BlYsxNMdHO9_"
      }
    },
    {
      "cell_type": "code",
      "source": [
        "# Mapear os valores na coluna 'TP_CATEGORIA_ESCOLA_PRIVADA'\n",
        "mapeamento = {\n",
        "    1.0: 'Particular',\n",
        "    2.0: 'Comunitária',\n",
        "    3.0: 'Confessional',\n",
        "    4.0: 'Filantrópica'\n",
        "    }\n",
        "df_censo['TP_CATEGORIA_ESCOLA_PRIVADA'] = df_censo['TP_CATEGORIA_ESCOLA_PRIVADA'].replace(mapeamento)\n",
        "\n",
        "# Leitura do DataFrame após a substituição\n",
        "df_censo['TP_CATEGORIA_ESCOLA_PRIVADA'].value_counts()"
      ],
      "metadata": {
        "id": "qtUJ4PUDIEgz",
        "outputId": "8ff4bd4e-2f9b-492c-b703-ddd8a8ce1fde",
        "colab": {
          "base_uri": "https://localhost:8080/"
        }
      },
      "execution_count": 53,
      "outputs": [
        {
          "output_type": "execute_result",
          "data": {
            "text/plain": [
              "Particular      31174\n",
              "Filantrópica     8260\n",
              "Comunitária      2004\n",
              "Confessional      321\n",
              "Name: TP_CATEGORIA_ESCOLA_PRIVADA, dtype: int64"
            ]
          },
          "metadata": {},
          "execution_count": 53
        }
      ]
    },
    {
      "cell_type": "code",
      "source": [
        "# Mapear os valores na coluna 'TP_SITUACAO_FUNCIONAMENTO'\n",
        "mapeamento = {\n",
        "    1: 'Em Atividade',\n",
        "    2: 'Paralisada',\n",
        "    3: 'Extinta (ano do Censo)',\n",
        "    4: 'Extinta em Anos Anteriores'\n",
        "    }\n",
        "df_censo['TP_SITUACAO_FUNCIONAMENTO'] = df_censo['TP_SITUACAO_FUNCIONAMENTO'].replace(mapeamento)\n",
        "\n",
        "# Leitura do DataFrame após a substituição\n",
        "df_censo['TP_SITUACAO_FUNCIONAMENTO'].value_counts()"
      ],
      "metadata": {
        "id": "qs5rMYLdQeeQ",
        "outputId": "dde510d6-d677-4c9d-d6a0-52e8e3a5ab70",
        "colab": {
          "base_uri": "https://localhost:8080/"
        }
      },
      "execution_count": 54,
      "outputs": [
        {
          "output_type": "execute_result",
          "data": {
            "text/plain": [
              "Em Atividade              184332\n",
              "Paralisada                 36526\n",
              "Extinta (ano do Censo)      3791\n",
              "Name: TP_SITUACAO_FUNCIONAMENTO, dtype: int64"
            ]
          },
          "metadata": {},
          "execution_count": 54
        }
      ]
    },
    {
      "cell_type": "markdown",
      "source": [
        "## 5.3 - Pré analise de escolas privadas"
      ],
      "metadata": {
        "id": "FeV_zJXeqI1s"
      }
    },
    {
      "cell_type": "code",
      "source": [
        "#Comparativo de entidades Particulares X Demais (ativas)\n",
        "# Contando o número de linhas para cada tipo na coluna 'TIPO' e filtrando somente as ativas\n",
        "\n",
        "df_filtrado = df_censo[df_censo['TP_SITUACAO_FUNCIONAMENTO'] == 'Em Atividade']\n",
        "contagem_dependencia = df_filtrado['TP_DEPENDENCIA'].value_counts()\n",
        "\n",
        "# Criar o gráfico de pizza\n",
        "plt.figure(figsize=(4, 8))\n",
        "plt.pie(contagem_dependencia, labels=contagem_dependencia.index, autopct='%1.1f%%', startangle=90)\n",
        "plt.title('Distribuição de Tipos de Entidades Ativas no Censo 2022')\n",
        "plt.show()"
      ],
      "metadata": {
        "colab": {
          "base_uri": "https://localhost:8080/",
          "height": 369
        },
        "id": "e7ML0UVOlbe8",
        "outputId": "f5e413c1-96e3-47ef-c067-f3fa948076bc"
      },
      "execution_count": 67,
      "outputs": [
        {
          "output_type": "display_data",
          "data": {
            "text/plain": [
              "<Figure size 400x800 with 1 Axes>"
            ],
            "image/png": "[encoded data removed]"
          },
          "metadata": {}
        }
      ]
    },
    {
      "cell_type": "markdown",
      "source": [
        "Do censo 2022, podemos observar que temos um mercado de 24,9% de escolas de ensino privado, sendo este o nosso foco de pesquisa.\n"
      ],
      "metadata": {
        "id": "_1HC5fpTptfq"
      }
    },
    {
      "cell_type": "markdown",
      "source": [
        "Com todos os filtros e limpezas realizadas vamos trabalhar agora com um data frame que inclui somente as entidades privadas em funcionamento pelo censo."
      ],
      "metadata": {
        "id": "fuBAS70hwlll"
      }
    },
    {
      "cell_type": "code",
      "source": [
        "#Criando novo data frame somente com escolas de ensino privado e ativas\n",
        "df_pv = df_censo[(df_censo['TP_DEPENDENCIA'] == 'Privada') & (df_censo['TP_SITUACAO_FUNCIONAMENTO'] == 'Em Atividade')]\n",
        "df_pv = df_pv.reset_index(drop=True)\n",
        "#print(df_pv.head(5))\n",
        "\n"
      ],
      "metadata": {
        "id": "TgBsymEvqEHI"
      },
      "execution_count": null,
      "outputs": []
    },
    {
      "cell_type": "code",
      "source": [
        "df_pv.shape"
      ],
      "metadata": {
        "colab": {
          "base_uri": "https://localhost:8080/"
        },
        "id": "XjzbbHFqru5-",
        "outputId": "2d4d3685-b0dc-413d-b854-1e2b081a7ffe"
      },
      "execution_count": 74,
      "outputs": [
        {
          "output_type": "execute_result",
          "data": {
            "text/plain": [
              "(45977, 146)"
            ]
          },
          "metadata": {},
          "execution_count": 74
        }
      ]
    },
    {
      "cell_type": "markdown",
      "source": [
        "Existe uma subdivisão na categoria de escolas privadas, conforme vemos abaixo"
      ],
      "metadata": {
        "id": "gDNcglM7yNj6"
      }
    },
    {
      "cell_type": "code",
      "source": [
        "# Contando o número de linhas para cada tipo na coluna 'TP_CATEGORIA_ESCOLA_PRIVADA'\n",
        "cat_priv = df_pv['TP_CATEGORIA_ESCOLA_PRIVADA'].value_counts()\n",
        "\n",
        "# Criar o gráfico de pizza\n",
        "plt.figure(figsize=(6, 5))\n",
        "plt.pie(cat_priv, labels=cat_priv.index, autopct='%1.1f%%', startangle=45)\n",
        "plt.title('Distribuição categorias de Entidades Privadas Ativas no Censo 2022')\n",
        "plt.show()"
      ],
      "metadata": {
        "colab": {
          "base_uri": "https://localhost:8080/",
          "height": 444
        },
        "id": "1cMDanwcsAOo",
        "outputId": "3eff7dac-e3b8-4753-afa7-be46f4fbdc64"
      },
      "execution_count": 94,
      "outputs": [
        {
          "output_type": "display_data",
          "data": {
            "text/plain": [
              "<Figure size 600x500 with 1 Axes>"
            ],
            "image/png": "[encoded data removed]"
          },
          "metadata": {}
        }
      ]
    },
    {
      "cell_type": "markdown",
      "source": [
        "Do nosso conjuto de escolas privadas vamos focar nossos esforços na do tipo **particular** que representam 74,7% dos tipos de escolas privadas, alterando nosso dataFrame para assumir somentes estas entidades ativas, privadas e do tipo particular.\n"
      ],
      "metadata": {
        "id": "w4Fvig_0vSk_"
      }
    },
    {
      "cell_type": "code",
      "source": [
        "df_pv['TP_DEPENDENCIA'].value_counts()"
      ],
      "metadata": {
        "id": "1xbHVbKODZCW",
        "outputId": "032af918-8d07-4b4e-87eb-5919c28c869a",
        "colab": {
          "base_uri": "https://localhost:8080/"
        }
      },
      "execution_count": 97,
      "outputs": [
        {
          "output_type": "execute_result",
          "data": {
            "text/plain": [
              "Privada    45977\n",
              "Name: TP_DEPENDENCIA, dtype: int64"
            ]
          },
          "metadata": {},
          "execution_count": 97
        }
      ]
    },
    {
      "cell_type": "code",
      "source": [
        "# Alterando data frame com os filtros finais\n",
        "\n",
        "df_pvp = df_pv[(df_pv['TP_DEPENDENCIA'] == 'Privada')  & (df_pv['TP_CATEGORIA_ESCOLA_PRIVADA'] == 'Particular') & (df_pv['TP_SITUACAO_FUNCIONAMENTO'] == 'Em Atividade')]\n",
        "\n",
        "# Reindexar o novo DataFrame\n",
        "df_pvp = df_pvp.reset_index(drop=True)\n"
      ],
      "metadata": {
        "id": "Ad18jTO7BXFU"
      },
      "execution_count": 100,
      "outputs": []
    },
    {
      "cell_type": "markdown",
      "source": [
        "### Releitura da analise exploratória do Data Frame Final"
      ],
      "metadata": {
        "id": "S06F-K93F2SS"
      }
    },
    {
      "cell_type": "code",
      "source": [
        "#Ralizando novas analises\n",
        "df_pvp.head(5)"
      ],
      "metadata": {
        "id": "8Y_piR_WFsKR"
      },
      "execution_count": null,
      "outputs": []
    },
    {
      "cell_type": "code",
      "source": [
        "#Estatísticas do data Frame\n",
        "print(df_pvp.describe())"
      ],
      "metadata": {
        "id": "4a2bdZBuGoXJ"
      },
      "execution_count": null,
      "outputs": []
    },
    {
      "cell_type": "code",
      "source": [
        "# Verificando valores unicos e suas contagens\n",
        "print(df_pvp.nunique())"
      ],
      "metadata": {
        "id": "eNJ01De_GZCU"
      },
      "execution_count": null,
      "outputs": []
    },
    {
      "cell_type": "code",
      "source": [
        "df_pvp.corr()"
      ],
      "metadata": {
        "id": "2B5UxG45HUj3"
      },
      "execution_count": null,
      "outputs": []
    },
    {
      "cell_type": "code",
      "source": [
        "# Tp 10 entidades particulares com maior número de matricula\n",
        "df_part =df_pv[df_pv['TP_CATEGORIA_ESCOLA_PRIVADA']==1.0].reset_index(drop=True)\n"
      ],
      "metadata": {
        "id": "jqnv9LojvfoT"
      },
      "execution_count": null,
      "outputs": []
    },
    {
      "cell_type": "code",
      "source": [
        "df_part.shape"
      ],
      "metadata": {
        "colab": {
          "base_uri": "https://localhost:8080/"
        },
        "id": "waOzJzo0wt1M",
        "outputId": "8e22d166-a9f7-4bf4-ab3a-4f3f198bc763"
      },
      "execution_count": null,
      "outputs": [
        {
          "output_type": "execute_result",
          "data": {
            "text/plain": [
              "(31174, 146)"
            ]
          },
          "metadata": {},
          "execution_count": 94
        }
      ]
    },
    {
      "cell_type": "code",
      "source": [
        "#Determinando TOP escolas com o maior número de matriculas utilizando os campos: NO_ENTIDADE /QT_MAT_BAS\n",
        "\n",
        "df_part.groupby('NO_ENTIDADE')['QT_MAT_BAS'].sum().sort_values(ascending=False).nlargest(20)\n",
        "\n"
      ],
      "metadata": {
        "colab": {
          "base_uri": "https://localhost:8080/"
        },
        "id": "bV6GVUVFw40u",
        "outputId": "d4baf727-9f83-4467-ec49-02a9d7bd520b"
      },
      "execution_count": null,
      "outputs": [
        {
          "output_type": "execute_result",
          "data": {
            "text/plain": [
              "NO_ENTIDADE\n",
              "INSTITUTO MONITOR LTDA                                        53556.0\n",
              "SENAC RIO GRANDE DO SUL                                       24164.0\n",
              "SISTEMA ELITE DE ENSINO                                       15265.0\n",
              "INSTITUTO BRASILEIRO DE EDUCACAO PROFISSIONAL ESTADO DE SP    10953.0\n",
              "INSTITUTO TECNOLOGICO ASSESSORITEC                            10296.0\n",
              "INSTITUTO BRASILEIRO DE ED PROFISSIONAL - IBREP                8950.0\n",
              "ESCOLA SESI DE ENSINO MEDIO FRANCISCO XAVIER KUNST             8184.0\n",
              "UNIDADE SESI RETIRO                                            7438.0\n",
              "CENTRO DE PROFISSIONALIZACAO E EDUCACAO TECNICA                7315.0\n",
              "COLEGIO SAGRADO CORACAO DE JESUS                               7257.0\n",
              "INSTITUTO ATENEU                                               7242.0\n",
              "INSTITUTO EDUCACIONAL MONITOR LTDA                             6778.0\n",
              "ESCOLA TECNICA VENCER                                          6515.0\n",
              "CENTRO DE ENSINO GRAU TECNICO                                  5871.0\n",
              "COLEGIO SAO JOSE                                               5589.0\n",
              "COLEGIO LA SALLE                                               5347.0\n",
              "COLEGIO SANTO ANTONIO                                          5154.0\n",
              "ESCOLA MONTEIRO LOBATO                                         5144.0\n",
              "INSTITUTO NACIONAL DE EDUCACAO A DISTANCIA - INED              4996.0\n",
              "ESCOLA MENINO JESUS                                            4740.0\n",
              "Name: QT_MAT_BAS, dtype: float64"
            ]
          },
          "metadata": {},
          "execution_count": 138
        }
      ]
    },
    {
      "cell_type": "code",
      "source": [
        "\n",
        "df_top10_matriculas = df_tmp.loc[df_tmp['QT_MAT_BAS'].nlargest(10).index]"
      ],
      "metadata": {
        "id": "8a_l0gRH_UT4",
        "outputId": "33251ebd-6c1d-4c9d-c6ca-eddd2f84e3b6",
        "colab": {
          "base_uri": "https://localhost:8080/",
          "height": 512
        }
      },
      "execution_count": null,
      "outputs": [
        {
          "output_type": "error",
          "ename": "KeyError",
          "evalue": "'QT_MAT_BAS'",
          "traceback": [
            "\u001b[0;31m---------------------------------------------------------------------------\u001b[0m",
            "\u001b[0;31mKeyError\u001b[0m                                  Traceback (most recent call last)",
            "\u001b[0;32m/usr/local/lib/python3.10/dist-packages/pandas/core/indexes/base.py\u001b[0m in \u001b[0;36mget_loc\u001b[0;34m(self, key, method, tolerance)\u001b[0m\n\u001b[1;32m   3801\u001b[0m             \u001b[0;32mtry\u001b[0m\u001b[0;34m:\u001b[0m\u001b[0;34m\u001b[0m\u001b[0;34m\u001b[0m\u001b[0m\n\u001b[0;32m-> 3802\u001b[0;31m                 \u001b[0;32mreturn\u001b[0m \u001b[0mself\u001b[0m\u001b[0;34m.\u001b[0m\u001b[0m_engine\u001b[0m\u001b[0;34m.\u001b[0m\u001b[0mget_loc\u001b[0m\u001b[0;34m(\u001b[0m\u001b[0mcasted_key\u001b[0m\u001b[0;34m)\u001b[0m\u001b[0;34m\u001b[0m\u001b[0;34m\u001b[0m\u001b[0m\n\u001b[0m\u001b[1;32m   3803\u001b[0m             \u001b[0;32mexcept\u001b[0m \u001b[0mKeyError\u001b[0m \u001b[0;32mas\u001b[0m \u001b[0merr\u001b[0m\u001b[0;34m:\u001b[0m\u001b[0;34m\u001b[0m\u001b[0;34m\u001b[0m\u001b[0m\n",
            "\u001b[0;32m/usr/local/lib/python3.10/dist-packages/pandas/_libs/index.pyx\u001b[0m in \u001b[0;36mpandas._libs.index.IndexEngine.get_loc\u001b[0;34m()\u001b[0m\n",
            "\u001b[0;32m/usr/local/lib/python3.10/dist-packages/pandas/_libs/index.pyx\u001b[0m in \u001b[0;36mpandas._libs.index.IndexEngine.get_loc\u001b[0;34m()\u001b[0m\n",
            "\u001b[0;32mpandas/_libs/hashtable_class_helper.pxi\u001b[0m in \u001b[0;36mpandas._libs.hashtable.PyObjectHashTable.get_item\u001b[0;34m()\u001b[0m\n",
            "\u001b[0;32mpandas/_libs/hashtable_class_helper.pxi\u001b[0m in \u001b[0;36mpandas._libs.hashtable.PyObjectHashTable.get_item\u001b[0;34m()\u001b[0m\n",
            "\u001b[0;31mKeyError\u001b[0m: 'QT_MAT_BAS'",
            "\nThe above exception was the direct cause of the following exception:\n",
            "\u001b[0;31mKeyError\u001b[0m                                  Traceback (most recent call last)",
            "\u001b[0;32m<ipython-input-131-33eca5f6fd21>\u001b[0m in \u001b[0;36m<cell line: 1>\u001b[0;34m()\u001b[0m\n\u001b[0;32m----> 1\u001b[0;31m \u001b[0mdf_top10_matriculas\u001b[0m \u001b[0;34m=\u001b[0m \u001b[0mdf_tmp\u001b[0m\u001b[0;34m.\u001b[0m\u001b[0mloc\u001b[0m\u001b[0;34m[\u001b[0m\u001b[0mdf_tmp\u001b[0m\u001b[0;34m[\u001b[0m\u001b[0;34m'QT_MAT_BAS'\u001b[0m\u001b[0;34m]\u001b[0m\u001b[0;34m.\u001b[0m\u001b[0mnlargest\u001b[0m\u001b[0;34m(\u001b[0m\u001b[0;36m10\u001b[0m\u001b[0;34m)\u001b[0m\u001b[0;34m.\u001b[0m\u001b[0mindex\u001b[0m\u001b[0;34m]\u001b[0m\u001b[0;34m\u001b[0m\u001b[0;34m\u001b[0m\u001b[0m\n\u001b[0m",
            "\u001b[0;32m/usr/local/lib/python3.10/dist-packages/pandas/core/series.py\u001b[0m in \u001b[0;36m__getitem__\u001b[0;34m(self, key)\u001b[0m\n\u001b[1;32m    979\u001b[0m \u001b[0;34m\u001b[0m\u001b[0m\n\u001b[1;32m    980\u001b[0m         \u001b[0;32melif\u001b[0m \u001b[0mkey_is_scalar\u001b[0m\u001b[0;34m:\u001b[0m\u001b[0;34m\u001b[0m\u001b[0;34m\u001b[0m\u001b[0m\n\u001b[0;32m--> 981\u001b[0;31m             \u001b[0;32mreturn\u001b[0m \u001b[0mself\u001b[0m\u001b[0;34m.\u001b[0m\u001b[0m_get_value\u001b[0m\u001b[0;34m(\u001b[0m\u001b[0mkey\u001b[0m\u001b[0;34m)\u001b[0m\u001b[0;34m\u001b[0m\u001b[0;34m\u001b[0m\u001b[0m\n\u001b[0m\u001b[1;32m    982\u001b[0m \u001b[0;34m\u001b[0m\u001b[0m\n\u001b[1;32m    983\u001b[0m         \u001b[0;32mif\u001b[0m \u001b[0mis_hashable\u001b[0m\u001b[0;34m(\u001b[0m\u001b[0mkey\u001b[0m\u001b[0;34m)\u001b[0m\u001b[0;34m:\u001b[0m\u001b[0;34m\u001b[0m\u001b[0;34m\u001b[0m\u001b[0m\n",
            "\u001b[0;32m/usr/local/lib/python3.10/dist-packages/pandas/core/series.py\u001b[0m in \u001b[0;36m_get_value\u001b[0;34m(self, label, takeable)\u001b[0m\n\u001b[1;32m   1087\u001b[0m \u001b[0;34m\u001b[0m\u001b[0m\n\u001b[1;32m   1088\u001b[0m         \u001b[0;31m# Similar to Index.get_value, but we do not fall back to positional\u001b[0m\u001b[0;34m\u001b[0m\u001b[0;34m\u001b[0m\u001b[0m\n\u001b[0;32m-> 1089\u001b[0;31m         \u001b[0mloc\u001b[0m \u001b[0;34m=\u001b[0m \u001b[0mself\u001b[0m\u001b[0;34m.\u001b[0m\u001b[0mindex\u001b[0m\u001b[0;34m.\u001b[0m\u001b[0mget_loc\u001b[0m\u001b[0;34m(\u001b[0m\u001b[0mlabel\u001b[0m\u001b[0;34m)\u001b[0m\u001b[0;34m\u001b[0m\u001b[0;34m\u001b[0m\u001b[0m\n\u001b[0m\u001b[1;32m   1090\u001b[0m         \u001b[0;32mreturn\u001b[0m \u001b[0mself\u001b[0m\u001b[0;34m.\u001b[0m\u001b[0mindex\u001b[0m\u001b[0;34m.\u001b[0m\u001b[0m_get_values_for_loc\u001b[0m\u001b[0;34m(\u001b[0m\u001b[0mself\u001b[0m\u001b[0;34m,\u001b[0m \u001b[0mloc\u001b[0m\u001b[0;34m,\u001b[0m \u001b[0mlabel\u001b[0m\u001b[0;34m)\u001b[0m\u001b[0;34m\u001b[0m\u001b[0;34m\u001b[0m\u001b[0m\n\u001b[1;32m   1091\u001b[0m \u001b[0;34m\u001b[0m\u001b[0m\n",
            "\u001b[0;32m/usr/local/lib/python3.10/dist-packages/pandas/core/indexes/base.py\u001b[0m in \u001b[0;36mget_loc\u001b[0;34m(self, key, method, tolerance)\u001b[0m\n\u001b[1;32m   3802\u001b[0m                 \u001b[0;32mreturn\u001b[0m \u001b[0mself\u001b[0m\u001b[0;34m.\u001b[0m\u001b[0m_engine\u001b[0m\u001b[0;34m.\u001b[0m\u001b[0mget_loc\u001b[0m\u001b[0;34m(\u001b[0m\u001b[0mcasted_key\u001b[0m\u001b[0;34m)\u001b[0m\u001b[0;34m\u001b[0m\u001b[0;34m\u001b[0m\u001b[0m\n\u001b[1;32m   3803\u001b[0m             \u001b[0;32mexcept\u001b[0m \u001b[0mKeyError\u001b[0m \u001b[0;32mas\u001b[0m \u001b[0merr\u001b[0m\u001b[0;34m:\u001b[0m\u001b[0;34m\u001b[0m\u001b[0;34m\u001b[0m\u001b[0m\n\u001b[0;32m-> 3804\u001b[0;31m                 \u001b[0;32mraise\u001b[0m \u001b[0mKeyError\u001b[0m\u001b[0;34m(\u001b[0m\u001b[0mkey\u001b[0m\u001b[0;34m)\u001b[0m \u001b[0;32mfrom\u001b[0m \u001b[0merr\u001b[0m\u001b[0;34m\u001b[0m\u001b[0;34m\u001b[0m\u001b[0m\n\u001b[0m\u001b[1;32m   3805\u001b[0m             \u001b[0;32mexcept\u001b[0m \u001b[0mTypeError\u001b[0m\u001b[0;34m:\u001b[0m\u001b[0;34m\u001b[0m\u001b[0;34m\u001b[0m\u001b[0m\n\u001b[1;32m   3806\u001b[0m                 \u001b[0;31m# If we have a listlike key, _check_indexing_error will raise\u001b[0m\u001b[0;34m\u001b[0m\u001b[0;34m\u001b[0m\u001b[0m\n",
            "\u001b[0;31mKeyError\u001b[0m: 'QT_MAT_BAS'"
          ]
        }
      ]
    },
    {
      "cell_type": "code",
      "source": [
        "#\n",
        "\n",
        "#pd.DataFrame(df_tmp)\n",
        "df_tmp.to_frame().reset_index()\n"
      ],
      "metadata": {
        "colab": {
          "base_uri": "https://localhost:8080/",
          "height": 424
        },
        "id": "MjA5a7y91E7k",
        "outputId": "b18aa211-a59d-4925-f36f-4f81369a3106"
      },
      "execution_count": null,
      "outputs": [
        {
          "output_type": "execute_result",
          "data": {
            "text/plain": [
              "                                             NO_ENTIDADE  QT_MAT_BAS\n",
              "0                                 INSTITUTO MONITOR LTDA     53556.0\n",
              "1                                SENAC RIO GRANDE DO SUL     24164.0\n",
              "2                                SISTEMA ELITE DE ENSINO     15265.0\n",
              "3      INSTITUTO BRASILEIRO DE EDUCACAO PROFISSIONAL ...     10953.0\n",
              "4                     INSTITUTO TECNOLOGICO ASSESSORITEC     10296.0\n",
              "...                                                  ...         ...\n",
              "27703             FUNDHAS UNIDADE PETROBRAS CPO SAO JOSE         0.0\n",
              "27704           ASSOCIACAO CASA DE CULTURA EDUARDO CABUS         0.0\n",
              "27705                                     SENAI ARIPUANA         0.0\n",
              "27706  ASSOCIACAO BRASILEIRA DE ODONTOLOGIA REGIONAL ...         0.0\n",
              "27707        CENTRO FORMACAO PROF ROBERTO CARLOS REGNIER         0.0\n",
              "\n",
              "[27708 rows x 2 columns]"
            ],
            "text/html": [
              "\n",
              "  <div id=\"df-7bfa3a4c-3ff9-4e43-88c6-1cb13fe7517c\" class=\"colab-df-container\">\n",
              "    <div>\n",
              "<style scoped>\n",
              "    .dataframe tbody tr th:only-of-type {\n",
              "        vertical-align: middle;\n",
              "    }\n",
              "\n",
              "    .dataframe tbody tr th {\n",
              "        vertical-align: top;\n",
              "    }\n",
              "\n",
              "    .dataframe thead th {\n",
              "        text-align: right;\n",
              "    }\n",
              "</style>\n",
              "<table border=\"1\" class=\"dataframe\">\n",
              "  <thead>\n",
              "    <tr style=\"text-align: right;\">\n",
              "      <th></th>\n",
              "      <th>NO_ENTIDADE</th>\n",
              "      <th>QT_MAT_BAS</th>\n",
              "    </tr>\n",
              "  </thead>\n",
              "  <tbody>\n",
              "    <tr>\n",
              "      <th>0</th>\n",
              "      <td>INSTITUTO MONITOR LTDA</td>\n",
              "      <td>53556.0</td>\n",
              "    </tr>\n",
              "    <tr>\n",
              "      <th>1</th>\n",
              "      <td>SENAC RIO GRANDE DO SUL</td>\n",
              "      <td>24164.0</td>\n",
              "    </tr>\n",
              "    <tr>\n",
              "      <th>2</th>\n",
              "      <td>SISTEMA ELITE DE ENSINO</td>\n",
              "      <td>15265.0</td>\n",
              "    </tr>\n",
              "    <tr>\n",
              "      <th>3</th>\n",
              "      <td>INSTITUTO BRASILEIRO DE EDUCACAO PROFISSIONAL ...</td>\n",
              "      <td>10953.0</td>\n",
              "    </tr>\n",
              "    <tr>\n",
              "      <th>4</th>\n",
              "      <td>INSTITUTO TECNOLOGICO ASSESSORITEC</td>\n",
              "      <td>10296.0</td>\n",
              "    </tr>\n",
              "    <tr>\n",
              "      <th>...</th>\n",
              "      <td>...</td>\n",
              "      <td>...</td>\n",
              "    </tr>\n",
              "    <tr>\n",
              "      <th>27703</th>\n",
              "      <td>FUNDHAS UNIDADE PETROBRAS CPO SAO JOSE</td>\n",
              "      <td>0.0</td>\n",
              "    </tr>\n",
              "    <tr>\n",
              "      <th>27704</th>\n",
              "      <td>ASSOCIACAO CASA DE CULTURA EDUARDO CABUS</td>\n",
              "      <td>0.0</td>\n",
              "    </tr>\n",
              "    <tr>\n",
              "      <th>27705</th>\n",
              "      <td>SENAI ARIPUANA</td>\n",
              "      <td>0.0</td>\n",
              "    </tr>\n",
              "    <tr>\n",
              "      <th>27706</th>\n",
              "      <td>ASSOCIACAO BRASILEIRA DE ODONTOLOGIA REGIONAL ...</td>\n",
              "      <td>0.0</td>\n",
              "    </tr>\n",
              "    <tr>\n",
              "      <th>27707</th>\n",
              "      <td>CENTRO FORMACAO PROF ROBERTO CARLOS REGNIER</td>\n",
              "      <td>0.0</td>\n",
              "    </tr>\n",
              "  </tbody>\n",
              "</table>\n",
              "<p>27708 rows × 2 columns</p>\n",
              "</div>\n",
              "    <div class=\"colab-df-buttons\">\n",
              "\n",
              "  <div class=\"colab-df-container\">\n",
              "    <button class=\"colab-df-convert\" onclick=\"convertToInteractive('df-7bfa3a4c-3ff9-4e43-88c6-1cb13fe7517c')\"\n",
              "            title=\"Convert this dataframe to an interactive table.\"\n",
              "            style=\"display:none;\">\n",
              "\n",
              "  <svg xmlns=\"http://www.w3.org/2000/svg\" height=\"24px\" viewBox=\"0 -960 960 960\">\n",
              "    <path d=\"M120-120v-720h720v720H120Zm60-500h600v-160H180v160Zm220 220h160v-160H400v160Zm0 220h160v-160H400v160ZM180-400h160v-160H180v160Zm440 0h160v-160H620v160ZM180-180h160v-160H180v160Zm440 0h160v-160H620v160Z\"/>\n",
              "  </svg>\n",
              "    </button>\n",
              "\n",
              "  <style>\n",
              "    .colab-df-container {\n",
              "      display:flex;\n",
              "      gap: 12px;\n",
              "    }\n",
              "\n",
              "    .colab-df-convert {\n",
              "      background-color: #E8F0FE;\n",
              "      border: none;\n",
              "      border-radius: 50%;\n",
              "      cursor: pointer;\n",
              "      display: none;\n",
              "      fill: #1967D2;\n",
              "      height: 32px;\n",
              "      padding: 0 0 0 0;\n",
              "      width: 32px;\n",
              "    }\n",
              "\n",
              "    .colab-df-convert:hover {\n",
              "      background-color: #E2EBFA;\n",
              "      box-shadow: 0px 1px 2px rgba(60, 64, 67, 0.3), 0px 1px 3px 1px rgba(60, 64, 67, 0.15);\n",
              "      fill: #174EA6;\n",
              "    }\n",
              "\n",
              "    .colab-df-buttons div {\n",
              "      margin-bottom: 4px;\n",
              "    }\n",
              "\n",
              "    [theme=dark] .colab-df-convert {\n",
              "      background-color: #3B4455;\n",
              "      fill: #D2E3FC;\n",
              "    }\n",
              "\n",
              "    [theme=dark] .colab-df-convert:hover {\n",
              "      background-color: #434B5C;\n",
              "      box-shadow: 0px 1px 3px 1px rgba(0, 0, 0, 0.15);\n",
              "      filter: drop-shadow(0px 1px 2px rgba(0, 0, 0, 0.3));\n",
              "      fill: #FFFFFF;\n",
              "    }\n",
              "  </style>\n",
              "\n",
              "    <script>\n",
              "      const buttonEl =\n",
              "        document.querySelector('#df-7bfa3a4c-3ff9-4e43-88c6-1cb13fe7517c button.colab-df-convert');\n",
              "      buttonEl.style.display =\n",
              "        google.colab.kernel.accessAllowed ? 'block' : 'none';\n",
              "\n",
              "      async function convertToInteractive(key) {\n",
              "        const element = document.querySelector('#df-7bfa3a4c-3ff9-4e43-88c6-1cb13fe7517c');\n",
              "        const dataTable =\n",
              "          await google.colab.kernel.invokeFunction('convertToInteractive',\n",
              "                                                    [key], {});\n",
              "        if (!dataTable) return;\n",
              "\n",
              "        const docLinkHtml = 'Like what you see? Visit the ' +\n",
              "          '<a target=\"_blank\" href=https://colab.research.google.com/notebooks/data_table.ipynb>data table notebook</a>'\n",
              "          + ' to learn more about interactive tables.';\n",
              "        element.innerHTML = '';\n",
              "        dataTable['output_type'] = 'display_data';\n",
              "        await google.colab.output.renderOutput(dataTable, element);\n",
              "        const docLink = document.createElement('div');\n",
              "        docLink.innerHTML = docLinkHtml;\n",
              "        element.appendChild(docLink);\n",
              "      }\n",
              "    </script>\n",
              "  </div>\n",
              "\n",
              "\n",
              "<div id=\"df-c74b53f2-d779-4f21-a8dd-78443be409ff\">\n",
              "  <button class=\"colab-df-quickchart\" onclick=\"quickchart('df-c74b53f2-d779-4f21-a8dd-78443be409ff')\"\n",
              "            title=\"Suggest charts\"\n",
              "            style=\"display:none;\">\n",
              "\n",
              "<svg xmlns=\"http://www.w3.org/2000/svg\" height=\"24px\"viewBox=\"0 0 24 24\"\n",
              "     width=\"24px\">\n",
              "    <g>\n",
              "        <path d=\"M19 3H5c-1.1 0-2 .9-2 2v14c0 1.1.9 2 2 2h14c1.1 0 2-.9 2-2V5c0-1.1-.9-2-2-2zM9 17H7v-7h2v7zm4 0h-2V7h2v10zm4 0h-2v-4h2v4z\"/>\n",
              "    </g>\n",
              "</svg>\n",
              "  </button>\n",
              "\n",
              "<style>\n",
              "  .colab-df-quickchart {\n",
              "      --bg-color: #E8F0FE;\n",
              "      --fill-color: #1967D2;\n",
              "      --hover-bg-color: #E2EBFA;\n",
              "      --hover-fill-color: #174EA6;\n",
              "      --disabled-fill-color: #AAA;\n",
              "      --disabled-bg-color: #DDD;\n",
              "  }\n",
              "\n",
              "  [theme=dark] .colab-df-quickchart {\n",
              "      --bg-color: #3B4455;\n",
              "      --fill-color: #D2E3FC;\n",
              "      --hover-bg-color: #434B5C;\n",
              "      --hover-fill-color: #FFFFFF;\n",
              "      --disabled-bg-color: #3B4455;\n",
              "      --disabled-fill-color: #666;\n",
              "  }\n",
              "\n",
              "  .colab-df-quickchart {\n",
              "    background-color: var(--bg-color);\n",
              "    border: none;\n",
              "    border-radius: 50%;\n",
              "    cursor: pointer;\n",
              "    display: none;\n",
              "    fill: var(--fill-color);\n",
              "    height: 32px;\n",
              "    padding: 0;\n",
              "    width: 32px;\n",
              "  }\n",
              "\n",
              "  .colab-df-quickchart:hover {\n",
              "    background-color: var(--hover-bg-color);\n",
              "    box-shadow: 0 1px 2px rgba(60, 64, 67, 0.3), 0 1px 3px 1px rgba(60, 64, 67, 0.15);\n",
              "    fill: var(--button-hover-fill-color);\n",
              "  }\n",
              "\n",
              "  .colab-df-quickchart-complete:disabled,\n",
              "  .colab-df-quickchart-complete:disabled:hover {\n",
              "    background-color: var(--disabled-bg-color);\n",
              "    fill: var(--disabled-fill-color);\n",
              "    box-shadow: none;\n",
              "  }\n",
              "\n",
              "  .colab-df-spinner {\n",
              "    border: 2px solid var(--fill-color);\n",
              "    border-color: transparent;\n",
              "    border-bottom-color: var(--fill-color);\n",
              "    animation:\n",
              "      spin 1s steps(1) infinite;\n",
              "  }\n",
              "\n",
              "  @keyframes spin {\n",
              "    0% {\n",
              "      border-color: transparent;\n",
              "      border-bottom-color: var(--fill-color);\n",
              "      border-left-color: var(--fill-color);\n",
              "    }\n",
              "    20% {\n",
              "      border-color: transparent;\n",
              "      border-left-color: var(--fill-color);\n",
              "      border-top-color: var(--fill-color);\n",
              "    }\n",
              "    30% {\n",
              "      border-color: transparent;\n",
              "      border-left-color: var(--fill-color);\n",
              "      border-top-color: var(--fill-color);\n",
              "      border-right-color: var(--fill-color);\n",
              "    }\n",
              "    40% {\n",
              "      border-color: transparent;\n",
              "      border-right-color: var(--fill-color);\n",
              "      border-top-color: var(--fill-color);\n",
              "    }\n",
              "    60% {\n",
              "      border-color: transparent;\n",
              "      border-right-color: var(--fill-color);\n",
              "    }\n",
              "    80% {\n",
              "      border-color: transparent;\n",
              "      border-right-color: var(--fill-color);\n",
              "      border-bottom-color: var(--fill-color);\n",
              "    }\n",
              "    90% {\n",
              "      border-color: transparent;\n",
              "      border-bottom-color: var(--fill-color);\n",
              "    }\n",
              "  }\n",
              "</style>\n",
              "\n",
              "  <script>\n",
              "    async function quickchart(key) {\n",
              "      const quickchartButtonEl =\n",
              "        document.querySelector('#' + key + ' button');\n",
              "      quickchartButtonEl.disabled = true;  // To prevent multiple clicks.\n",
              "      quickchartButtonEl.classList.add('colab-df-spinner');\n",
              "      try {\n",
              "        const charts = await google.colab.kernel.invokeFunction(\n",
              "            'suggestCharts', [key], {});\n",
              "      } catch (error) {\n",
              "        console.error('Error during call to suggestCharts:', error);\n",
              "      }\n",
              "      quickchartButtonEl.classList.remove('colab-df-spinner');\n",
              "      quickchartButtonEl.classList.add('colab-df-quickchart-complete');\n",
              "    }\n",
              "    (() => {\n",
              "      let quickchartButtonEl =\n",
              "        document.querySelector('#df-c74b53f2-d779-4f21-a8dd-78443be409ff button');\n",
              "      quickchartButtonEl.style.display =\n",
              "        google.colab.kernel.accessAllowed ? 'block' : 'none';\n",
              "    })();\n",
              "  </script>\n",
              "</div>\n",
              "\n",
              "    </div>\n",
              "  </div>\n"
            ]
          },
          "metadata": {},
          "execution_count": 118
        }
      ]
    },
    {
      "cell_type": "markdown",
      "source": [
        "# 6 - Análise Estatística"
      ],
      "metadata": {
        "id": "ZGsbg7bPlDJP"
      }
    },
    {
      "cell_type": "markdown",
      "source": [
        "## *Descritiva*"
      ],
      "metadata": {
        "id": "kNkIm3sqlM8N"
      }
    },
    {
      "cell_type": "code",
      "source": [],
      "metadata": {
        "id": "7cWRF3cmWo-W"
      },
      "execution_count": null,
      "outputs": []
    },
    {
      "cell_type": "markdown",
      "source": [
        "## *Inferencial*"
      ],
      "metadata": {
        "id": "QXaPk6XflWGF"
      }
    },
    {
      "cell_type": "markdown",
      "source": [
        "# 7 - Visualização de Dados"
      ],
      "metadata": {
        "id": "nveWV4Gmlkhz"
      }
    },
    {
      "cell_type": "markdown",
      "source": [
        "# 8 - Interpretação e Conclusões"
      ],
      "metadata": {
        "id": "Z3hwORCqlxSA"
      }
    },
    {
      "cell_type": "code",
      "source": [
        "#Realizando una analise com base no arquivo do ultimo CENSO 2022\n",
        "#"
      ],
      "metadata": {
        "id": "eyFlSfMOkonE"
      },
      "execution_count": null,
      "outputs": []
    },
    {
      "cell_type": "markdown",
      "source": [
        "\n",
        "\n"
      ],
      "metadata": {
        "id": "ipHJg6C066Mr"
      }
    },
    {
      "cell_type": "code",
      "source": [],
      "metadata": {
        "id": "gO1TNTUX9fBa"
      },
      "execution_count": null,
      "outputs": []
    }
  ]
}