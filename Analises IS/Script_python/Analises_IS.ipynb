{
  "nbformat": 4,
  "nbformat_minor": 0,
  "metadata": {
    "colab": {
      "provenance": [],
      "toc_visible": true,
      "authorship_tag": "ABX9TyMYmj8uu8KipIkw0IKaFj0Z",
      "include_colab_link": true
    },
    "kernelspec": {
      "name": "python3",
      "display_name": "Python 3"
    },
    "language_info": {
      "name": "python"
    }
  },
  "cells": [
    {
      "cell_type": "markdown",
      "metadata": {
        "id": "view-in-github",
        "colab_type": "text"
      },
      "source": [
        "<a href=\"https://colab.research.google.com/github/AndersonLopesbh/I.S/blob/main/Analises%20IS/Script_python/Analises_IS.ipynb\" target=\"_parent\"><img src=\"https://colab.research.google.com/assets/colab-badge.svg\" alt=\"Open In Colab\"/></a>"
      ]
    },
    {
      "cell_type": "code",
      "execution_count": null,
      "metadata": {
        "id": "boK9TNLg3Vu6"
      },
      "outputs": [],
      "source": []
    },
    {
      "cell_type": "markdown",
      "source": [
        "# 1 - Proposta de Trabalho"
      ],
      "metadata": {
        "id": "GAXCXBjb5K-u"
      }
    },
    {
      "cell_type": "markdown",
      "source": [
        "Avaliação de Competências Técnicas de Analíticas para Desenvolvedor de Banco de Dados em Python (DBM)\n",
        "\n",
        "**Objetivo:** Esta avaliação visa analisar suas habilidades técnicas em Python, capacidades analíticas e estatísticas, e sua resposta a situações adversas e desconhecidas, usando o dataset do Censo Escolar de 2022, com foco específico em análise de perfil para prospecção em escolas particulares.\n",
        "\n",
        "**Dataset:**\n",
        " O dataset pode ser acessado através do link: Censo Escolar 2022 - Dados Abertos.\n",
        "\n",
        "**Tarefas:**\n",
        "Extração e Tratamento de Dados: Extraia os dados relevantes, com ênfase nas escolas particulares. Realize a limpeza e organização dos dados, excluindo informações não relacionadas ao objetivo do estudo (como campos de saneamento básico), e tratando inconsistências.\n",
        "\n",
        "**Análise Exploratória e Foco do Estudo:**\n",
        "Conduza uma análise exploratória focada em identificar informações úteis para a prospecção em escolas particulares. Identifique e justifique quais campos são relevantes para o objetivo do estudo.\n",
        "\n",
        "**Análise Estatística:**\n",
        "Aplique técnicas de estatística descritiva e inferencial nos dados relevantes.\n",
        "\n",
        "**Visualização de Dados:**\n",
        "Crie visualizações que destaquem informações pertinentes para a prospecção em escolas particulares.\n",
        "\n",
        "**Interpretação e Conclusões:** Apresente insights e conclusões baseadas na sua análise, focando em aspectos relevantes para a prospecção.\n",
        "\n",
        "**Documentação e Código:** Seu código deve ser claro, bem documentado e eficiente.\n",
        "\n",
        "**Resposta a Adversidades:** Esteja preparado para discutir desafios enfrentados durante a análise e como você os superou.\n",
        "\n",
        "**Entrega:**\n",
        "▪ Uma apresentação (slides) resumindo sua análise e conclusões;\n",
        "▪ O código fonte desenvolvido, preferencialmente em um repositório Git;\n",
        "▪ Um relatório detalhando sua abordagem e métodos utilizados.\n",
        "Avaliação: Você será avaliado pela capacidade analítica, técnica em Python e estatística, pelo senso crítico na seleção de dados relevantes e como responde a adversidades e desafios não previstos.\n",
        "\n",
        "Prazo de Entrega: 10 dias corridos."
      ],
      "metadata": {
        "id": "8gsrzNqw5icA"
      }
    },
    {
      "cell_type": "markdown",
      "source": [
        "# 2 - Estratégia de Dados"
      ],
      "metadata": {
        "id": "KPKqxIgY6xDO"
      }
    },
    {
      "cell_type": "markdown",
      "source": [
        "1.   Uma vez que a base em CSV de 2022 tem 185mb e o GitHub suporta somente arquivos até 25MB, utilizaremos uma pasta como repositório dos arquivos em:\n",
        "https://drive.google.com/drive/folders/1UrDDx0DKRgX4SR5nrssTdVLnjAOwcVFT?usp=drive_link\n",
        "\n",
        "2.   Nesta pasta ficarão disponíveis as bases de 2016 a 2022 com foco no ultimo arquivo de 2022.\n",
        "\n",
        "3.   Caso haja possibilidade, observando o desempenho e memória, iremos concatenar os demais anos do senso."
      ],
      "metadata": {
        "id": "nXu6BkjQ9JBw"
      }
    },
    {
      "cell_type": "markdown",
      "source": [
        "# 3 - Bibliotecas a utilizadas"
      ],
      "metadata": {
        "id": "Gd5YY6WW7-BS"
      }
    },
    {
      "cell_type": "markdown",
      "source": [
        "# 4 - Leitura das bases"
      ],
      "metadata": {
        "id": "RMxypRFX8H8K"
      }
    },
    {
      "cell_type": "markdown",
      "source": [
        "# Analise da estrutura dos dados"
      ],
      "metadata": {
        "id": "tFjIHHb88NXz"
      }
    },
    {
      "cell_type": "markdown",
      "source": [
        "\n",
        "\n"
      ],
      "metadata": {
        "id": "ipHJg6C066Mr"
      }
    },
    {
      "cell_type": "code",
      "source": [],
      "metadata": {
        "id": "gO1TNTUX9fBa"
      },
      "execution_count": null,
      "outputs": []
    }
  ]
}