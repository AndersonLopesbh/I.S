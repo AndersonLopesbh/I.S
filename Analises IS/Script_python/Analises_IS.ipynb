{
  "nbformat": 4,
  "nbformat_minor": 0,
  "metadata": {
    "colab": {
      "provenance": [],
      "toc_visible": true,
      "authorship_tag": "ABX9TyM6EMSzUkxg4xeDabT4kawq",
      "include_colab_link": true
    },
    "kernelspec": {
      "name": "python3",
      "display_name": "Python 3"
    },
    "language_info": {
      "name": "python"
    }
  },
  "cells": [
    {
      "cell_type": "markdown",
      "metadata": {
        "id": "view-in-github",
        "colab_type": "text"
      },
      "source": [
        "<a href=\"https://colab.research.google.com/github/AndersonLopesbh/I.S/blob/main/Analises%20IS/Script_python/Analises_IS.ipynb\" target=\"_parent\"><img src=\"https://colab.research.google.com/assets/colab-badge.svg\" alt=\"Open In Colab\"/></a>"
      ]
    },
    {
      "cell_type": "code",
      "execution_count": null,
      "metadata": {
        "id": "boK9TNLg3Vu6"
      },
      "outputs": [],
      "source": []
    },
    {
      "cell_type": "markdown",
      "source": [
        "# 1 - Proposta de Trabalho"
      ],
      "metadata": {
        "id": "GAXCXBjb5K-u"
      }
    },
    {
      "cell_type": "markdown",
      "source": [
        "Avaliação de Competências Técnicas de Analíticas para Desenvolvedor de Banco de Dados em Python (DBM)\n",
        "\n",
        "**Objetivo:** Esta avaliação visa analisar suas habilidades técnicas em Python, capacidades analíticas e estatísticas, e sua resposta a situações adversas e desconhecidas, usando o dataset do Censo Escolar de 2022, com foco específico em análise de perfil para prospecção em escolas particulares.\n",
        "\n",
        "**Dataset:**\n",
        " O dataset pode ser acessado através do link: Censo Escolar 2022 - Dados Abertos.\n",
        "\n",
        "**Tarefas:**\n",
        "Extração e Tratamento de Dados: Extraia os dados relevantes, com ênfase nas escolas particulares. Realize a limpeza e organização dos dados, excluindo informações não relacionadas ao objetivo do estudo (como campos de saneamento básico), e tratando inconsistências.\n",
        "\n",
        "**Análise Exploratória e Foco do Estudo:**\n",
        "Conduza uma análise exploratória focada em identificar informações úteis para a prospecção em escolas particulares. Identifique e justifique quais campos são relevantes para o objetivo do estudo.\n",
        "\n",
        "**Análise Estatística:**\n",
        "Aplique técnicas de estatística descritiva e inferencial nos dados relevantes.\n",
        "\n",
        "**Visualização de Dados:**\n",
        "Crie visualizações que destaquem informações pertinentes para a prospecção em escolas particulares.\n",
        "\n",
        "**Interpretação e Conclusões:** Apresente insights e conclusões baseadas na sua análise, focando em aspectos relevantes para a prospecção.\n",
        "\n",
        "**Documentação e Código:** Seu código deve ser claro, bem documentado e eficiente.\n",
        "\n",
        "**Resposta a Adversidades:** Esteja preparado para discutir desafios enfrentados durante a análise e como você os superou.\n",
        "\n",
        "**Entrega:**\n",
        "▪ Uma apresentação (slides) resumindo sua análise e conclusões;\n",
        "▪ O código fonte desenvolvido, preferencialmente em um repositório Git;\n",
        "▪ Um relatório detalhando sua abordagem e métodos utilizados.\n",
        "Avaliação: Você será avaliado pela capacidade analítica, técnica em Python e estatística, pelo senso crítico na seleção de dados relevantes e como responde a adversidades e desafios não previstos.\n",
        "\n",
        "Prazo de Entrega: 10 dias corridos."
      ],
      "metadata": {
        "id": "8gsrzNqw5icA"
      }
    },
    {
      "cell_type": "markdown",
      "source": [
        "# 2 - Estratégia de Dados"
      ],
      "metadata": {
        "id": "KPKqxIgY6xDO"
      }
    },
    {
      "cell_type": "markdown",
      "source": [
        "1.   Uma vez que a base em CSV de 2022 tem 185mb e o GitHub suporta somente arquivos até 25MB, utilizaremos uma pasta como repositório dos arquivos em:\n",
        "https://drive.google.com/drive/folders/1UrDDx0DKRgX4SR5nrssTdVLnjAOwcVFT?usp=drive_link\n",
        "\n",
        "2.   Nesta pasta ficarão disponíveis as bases de 2016 a 2022 com foco no ultimo arquivo de 2022.\n",
        "\n",
        "3.   Caso haja possibilidade, observando o desempenho e memória, iremos concatenar os demais anos do senso."
      ],
      "metadata": {
        "id": "nXu6BkjQ9JBw"
      }
    },
    {
      "cell_type": "markdown",
      "source": [
        "# 3 - Bibliotecas a utilizadas"
      ],
      "metadata": {
        "id": "Gd5YY6WW7-BS"
      }
    },
    {
      "cell_type": "code",
      "source": [
        "# Abaixo seram importadas as bibliotecas necessárias para manipulação dos dados e demais analises\n",
        "\n",
        "#Pandas leitura e tratamentod dos Data Frames\n",
        "import pandas as pd\n",
        "\n",
        "#Bibliotecas de graficos para analises visuais\n",
        "import plotly as pt\n",
        "import matplotlib.pyplot as plt\n",
        "import seaborn as sns"
      ],
      "metadata": {
        "id": "r912PU3yA96A"
      },
      "execution_count": 6,
      "outputs": []
    },
    {
      "cell_type": "markdown",
      "source": [
        "# 4 - Extração e Tratamento de Dados"
      ],
      "metadata": {
        "id": "RMxypRFX8H8K"
      }
    },
    {
      "cell_type": "code",
      "source": [
        "# Vamos começar abaixo a captura dos dados em CSV\n",
        "# o comando abaixo vai criar a conexão com o link da pasta dos arquivos CSV no google drive\n",
        "\n",
        "from google.colab import drive\n",
        "link_pastas='https://drive.google.com/drive/folders/1UrDDx0DKRgX4SR5nrssTdVLnjAOwcVFT?usp=drive_link'\n",
        "\n",
        "#Criando uma pasta Drive_analise_IS e montando a mesma no Google colab do usuário que estiver utilizando o script\n",
        "\n",
        "'''SERÁ NECESSÁRIO LOGAR NO GOOGLE DRIVE COM AS DEVIDAS PERMISSÕES!!!!!!!'''\n",
        "\n",
        "pasta =link_pastas.split('/')[-1]\n",
        "drive.mount('/content/Drive_analise_IS', force_remount=True)\n",
        "folder_path = f'/content/drive/My Drive/{pasta}'\n",
        "\n",
        "\n",
        "\n"
      ],
      "metadata": {
        "id": "BHgdzPUZB8Iw",
        "outputId": "7748a676-138d-434c-a6f5-21f3cc616262",
        "colab": {
          "base_uri": "https://localhost:8080/"
        }
      },
      "execution_count": 7,
      "outputs": [
        {
          "output_type": "stream",
          "name": "stdout",
          "text": [
            "Mounted at /content/Drive_analise_IS\n"
          ]
        }
      ]
    },
    {
      "cell_type": "code",
      "source": [
        "# criando data set/frame com os dados\n",
        "\n",
        "csv_2016 = '/content/Drive_analise_IS/MyDrive/ANALISE_IS/microdados_2016.csv'\n",
        "csv_2017 = '/content/Drive_analise_IS/MyDrive/ANALISE_IS/microdados_2017.csv'\n",
        "csv_2018 = '/content/Drive_analise_IS/MyDrive/ANALISE_IS/microdados_2018.csv'\n",
        "csv_2019 = '/content/Drive_analise_IS/MyDrive/ANALISE_IS/microdados_2019.csv'\n",
        "csv_2020 = '/content/Drive_analise_IS/MyDrive/ANALISE_IS/microdados_2020.csv'\n",
        "csv_2021 = '/content/Drive_analise_IS/MyDrive/ANALISE_IS/microdados_2021.csv'\n",
        "csv_2022 = '/content/Drive_analise_IS/MyDrive/ANALISE_IS/microdados_2022.csv'\n"
      ],
      "metadata": {
        "id": "k0Lx6CfrNMih"
      },
      "execution_count": 9,
      "outputs": []
    },
    {
      "cell_type": "code",
      "source": [
        "# Carregando os dados CVS para Data Frames, já trabalhando a leitura destes dados que se encontram separados por\n",
        "#';' que não se encontram no formato utf8 e lendo-os como Latin-1.\n",
        "\n",
        "df_2016 = pd.read_csv(csv_2016,header=0,sep=';',encoding='Latin-1')\n",
        "df_2017 = pd.read_csv(csv_2017,header=0,sep=';',encoding='Latin-1')\n",
        "df_2018 = pd.read_csv(csv_2018,header=0,sep=';',encoding='Latin-1')\n",
        "df_2019 = pd.read_csv(csv_2019,header=0,sep=';',encoding='Latin-1')\n",
        "df_2020 = pd.read_csv(csv_2020,header=0,sep=';',encoding='Latin-1')\n",
        "df_2021 = pd.read_csv(csv_2021,header=0,sep=';',encoding='Latin-1')\n",
        "df_2022 = pd.read_csv(csv_2022,header=0,sep=';',encoding='Latin-1')\n",
        "\n",
        "\n"
      ],
      "metadata": {
        "id": "szVy7RgFNZ4o"
      },
      "execution_count": null,
      "outputs": []
    },
    {
      "cell_type": "code",
      "source": [
        "#Realizando una analise com base no arquivo do ultimo senso 2022\n",
        "#\n"
      ],
      "metadata": {
        "id": "TiJY6RFWi_T0"
      },
      "execution_count": 23,
      "outputs": []
    },
    {
      "cell_type": "code",
      "source": [
        "# Verificado que o Google colab suportou bem o carregamento dos arquivos CSV, preferi concatenar os Data Frames em um único"
      ],
      "metadata": {
        "id": "qaqnW02LYQQE"
      },
      "execution_count": null,
      "outputs": []
    },
    {
      "cell_type": "code",
      "source": [
        "print(df_2016.head())\n",
        "print(df_2016.info())"
      ],
      "metadata": {
        "id": "csdPX3DrVotj",
        "outputId": "10b09915-6d39-4157-a093-acb912dd71c1",
        "colab": {
          "base_uri": "https://localhost:8080/"
        }
      },
      "execution_count": 20,
      "outputs": [
        {
          "output_type": "stream",
          "name": "stdout",
          "text": [
            "   NU_ANO_CENSO NO_REGIAO  CO_REGIAO     NO_UF SG_UF  CO_UF  \\\n",
            "0          2016     Norte          1  Rondônia    RO     11   \n",
            "1          2016     Norte          1  Rondônia    RO     11   \n",
            "2          2016     Norte          1  Rondônia    RO     11   \n",
            "3          2016     Norte          1  Rondônia    RO     11   \n",
            "4          2016     Norte          1  Rondônia    RO     11   \n",
            "\n",
            "            NO_MUNICIPIO  CO_MUNICIPIO     NO_MESORREGIAO  CO_MESORREGIAO  \\\n",
            "0  Alta Floresta D'Oeste       1100015  Leste Rondoniense            1102   \n",
            "1  Alta Floresta D'Oeste       1100015  Leste Rondoniense            1102   \n",
            "2  Alta Floresta D'Oeste       1100015  Leste Rondoniense            1102   \n",
            "3  Alta Floresta D'Oeste       1100015  Leste Rondoniense            1102   \n",
            "4  Alta Floresta D'Oeste       1100015  Leste Rondoniense            1102   \n",
            "\n",
            "   ... QT_TUR_FUND_AF  QT_TUR_MED  QT_TUR_PROF  QT_TUR_PROF_TEC QT_TUR_EJA  \\\n",
            "0  ...              1           0            0                0          0   \n",
            "1  ...              0           0            0                0         18   \n",
            "2  ...              2           0            0                0          0   \n",
            "3  ...              0           0            0                0          0   \n",
            "4  ...              5           0            0                0          0   \n",
            "\n",
            "   QT_TUR_EJA_FUND  QT_TUR_EJA_MED  QT_TUR_ESP  QT_TUR_ESP_CC QT_TUR_ESP_CE  \n",
            "0                0               0           0              0             0  \n",
            "1               10               8           3              3             0  \n",
            "2                0               0           0              0             0  \n",
            "3                0               0           0              0             0  \n",
            "4                0               0           4              4             0  \n",
            "\n",
            "[5 rows x 370 columns]\n",
            "<class 'pandas.core.frame.DataFrame'>\n",
            "RangeIndex: 237506 entries, 0 to 237505\n",
            "Columns: 370 entries, NU_ANO_CENSO to QT_TUR_ESP_CE\n",
            "dtypes: float64(3), int64(351), object(16)\n",
            "memory usage: 670.5+ MB\n",
            "None\n"
          ]
        }
      ]
    },
    {
      "cell_type": "markdown",
      "source": [
        "# 5 - Análise Exploratória"
      ],
      "metadata": {
        "id": "tFjIHHb88NXz"
      }
    },
    {
      "cell_type": "markdown",
      "source": [
        "Para uma análise exploratória em simples, utilizarei os comandos básico da biblioteca do pandas, utilizando o Data Frame de 2022."
      ],
      "metadata": {
        "id": "ty-_XpZ_mbGt"
      }
    },
    {
      "cell_type": "code",
      "source": [
        "print(df_2021.head())\n",
        "print(df_2022.head())"
      ],
      "metadata": {
        "id": "Xt1mDetCmr2X",
        "outputId": "2198846a-1da4-434e-dfcd-332d812525d5",
        "colab": {
          "base_uri": "https://localhost:8080/"
        }
      },
      "execution_count": 25,
      "outputs": [
        {
          "output_type": "stream",
          "name": "stdout",
          "text": [
            "   NU_ANO_CENSO NO_REGIAO  CO_REGIAO     NO_UF SG_UF  CO_UF  \\\n",
            "0          2021     Norte          1  Rondônia    RO     11   \n",
            "1          2021     Norte          1  Rondônia    RO     11   \n",
            "2          2021     Norte          1  Rondônia    RO     11   \n",
            "3          2021     Norte          1  Rondônia    RO     11   \n",
            "4          2021     Norte          1  Rondônia    RO     11   \n",
            "\n",
            "            NO_MUNICIPIO  CO_MUNICIPIO     NO_MESORREGIAO  CO_MESORREGIAO  \\\n",
            "0  Alta Floresta D'Oeste       1100015  Leste Rondoniense            1102   \n",
            "1  Alta Floresta D'Oeste       1100015  Leste Rondoniense            1102   \n",
            "2  Alta Floresta D'Oeste       1100015  Leste Rondoniense            1102   \n",
            "3  Alta Floresta D'Oeste       1100015  Leste Rondoniense            1102   \n",
            "4  Alta Floresta D'Oeste       1100015  Leste Rondoniense            1102   \n",
            "\n",
            "   ... QT_TUR_FUND_AF  QT_TUR_MED  QT_TUR_PROF  QT_TUR_PROF_TEC QT_TUR_EJA  \\\n",
            "0  ...              0           0            0                0          0   \n",
            "1  ...              0           0            0                0         11   \n",
            "2  ...              1           0            0                0          0   \n",
            "3  ...              5           0            0                0          0   \n",
            "4  ...              5           0            0                0          0   \n",
            "\n",
            "   QT_TUR_EJA_FUND  QT_TUR_EJA_MED  QT_TUR_ESP  QT_TUR_ESP_CC QT_TUR_ESP_CE  \n",
            "0                0               0           0              0             0  \n",
            "1                7               4           5              5             0  \n",
            "2                0               0           0              0             0  \n",
            "3                0               0           3              3             0  \n",
            "4                0               0           2              2             0  \n",
            "\n",
            "[5 rows x 370 columns]\n",
            "   NU_ANO_CENSO NO_REGIAO  CO_REGIAO     NO_UF SG_UF  CO_UF  \\\n",
            "0          2022     Norte          1  Rondônia    RO     11   \n",
            "1          2022     Norte          1  Rondônia    RO     11   \n",
            "2          2022     Norte          1  Rondônia    RO     11   \n",
            "3          2022     Norte          1  Rondônia    RO     11   \n",
            "4          2022     Norte          1  Rondônia    RO     11   \n",
            "\n",
            "            NO_MUNICIPIO  CO_MUNICIPIO     NO_MESORREGIAO  CO_MESORREGIAO  \\\n",
            "0  Alta Floresta D'Oeste       1100015  Leste Rondoniense               2   \n",
            "1  Alta Floresta D'Oeste       1100015  Leste Rondoniense               2   \n",
            "2  Alta Floresta D'Oeste       1100015  Leste Rondoniense               2   \n",
            "3  Alta Floresta D'Oeste       1100015  Leste Rondoniense               2   \n",
            "4  Alta Floresta D'Oeste       1100015  Leste Rondoniense               2   \n",
            "\n",
            "   ... QT_TUR_FUND_AF  QT_TUR_MED  QT_TUR_PROF QT_TUR_PROF_TEC  QT_TUR_EJA  \\\n",
            "0  ...            0.0         0.0          0.0             0.0         0.0   \n",
            "1  ...            0.0         0.0          0.0             0.0        10.0   \n",
            "2  ...            1.0         0.0          0.0             0.0         0.0   \n",
            "3  ...            6.0         0.0          0.0             0.0         0.0   \n",
            "4  ...            5.0         0.0          0.0             0.0         0.0   \n",
            "\n",
            "   QT_TUR_EJA_FUND  QT_TUR_EJA_MED  QT_TUR_ESP  QT_TUR_ESP_CC QT_TUR_ESP_CE  \n",
            "0              0.0             0.0         0.0            0.0           0.0  \n",
            "1              6.0             4.0         3.0            3.0           0.0  \n",
            "2              0.0             0.0         0.0            0.0           0.0  \n",
            "3              0.0             0.0         1.0            1.0           0.0  \n",
            "4              0.0             0.0         3.0            3.0           0.0  \n",
            "\n",
            "[5 rows x 385 columns]\n"
          ]
        }
      ]
    },
    {
      "cell_type": "markdown",
      "source": [
        "Como percebemos acima, estamos trabalhando em 2022 com 15 colunas a mais de informações quanto ao ano de 2021, sendo necessário analisarmos no dicionário de dados, quais são esta colunas e e real necessidade de inclusão das mesmas na análise."
      ],
      "metadata": {
        "id": "h6lluiuBm32q"
      }
    },
    {
      "cell_type": "markdown",
      "source": [
        "# 6 - Análise Estatística"
      ],
      "metadata": {
        "id": "ZGsbg7bPlDJP"
      }
    },
    {
      "cell_type": "markdown",
      "source": [
        "## *Descritiva*"
      ],
      "metadata": {
        "id": "kNkIm3sqlM8N"
      }
    },
    {
      "cell_type": "markdown",
      "source": [
        "## *Inferencial*"
      ],
      "metadata": {
        "id": "QXaPk6XflWGF"
      }
    },
    {
      "cell_type": "markdown",
      "source": [
        "# 7 - Visualização de Dados"
      ],
      "metadata": {
        "id": "nveWV4Gmlkhz"
      }
    },
    {
      "cell_type": "markdown",
      "source": [
        "# 8 - Interpretação e Conclusões"
      ],
      "metadata": {
        "id": "Z3hwORCqlxSA"
      }
    },
    {
      "cell_type": "code",
      "source": [
        "#Realizando una analise com base no arquivo do ultimo senso 2022\n",
        "#"
      ],
      "metadata": {
        "id": "eyFlSfMOkonE"
      },
      "execution_count": null,
      "outputs": []
    },
    {
      "cell_type": "markdown",
      "source": [
        "\n",
        "\n"
      ],
      "metadata": {
        "id": "ipHJg6C066Mr"
      }
    },
    {
      "cell_type": "code",
      "source": [],
      "metadata": {
        "id": "gO1TNTUX9fBa"
      },
      "execution_count": null,
      "outputs": []
    }
  ]
}